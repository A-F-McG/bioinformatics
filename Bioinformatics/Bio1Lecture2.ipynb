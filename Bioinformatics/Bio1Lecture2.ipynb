{
 "cells": [
  {
   "cell_type": "code",
   "execution_count": 4,
   "metadata": {},
   "outputs": [],
   "source": [
    "# import Biopython functions\n",
    "from Bio import SeqIO"
   ]
  },
  {
   "cell_type": "markdown",
   "metadata": {},
   "source": [
    "# Loading and viewing sequences\n",
    "In this example both a transcript (Thy1 in mouse), and the coding sequence, are read."
   ]
  },
  {
   "cell_type": "code",
   "execution_count": 5,
   "metadata": {},
   "outputs": [],
   "source": [
    "# load the whole transcipt\n",
    "transcript = next(SeqIO.parse(\"complete.fasta\", \"fasta\"))\n",
    "\n",
    "# load the coding sequence\n",
    "coding = next(SeqIO.parse(\"coding.fasta\", \"fasta\"))"
   ]
  },
  {
   "cell_type": "code",
   "execution_count": 6,
   "metadata": {},
   "outputs": [
    {
     "name": "stdout",
     "output_type": "stream",
     "text": [
      "NM_001105.4 Homo sapiens activin A receptor type 1 (ACVR1), transcript variant 1, mRNA\n"
     ]
    }
   ],
   "source": [
    "print(transcript.description)"
   ]
  },
  {
   "cell_type": "code",
   "execution_count": 7,
   "metadata": {},
   "outputs": [
    {
     "name": "stdout",
     "output_type": "stream",
     "text": [
      "lcl|NM_001105.4_cds_NP_001096.1_1 [gene=ACVR1] [db_xref=CCDS:CCDS2206.1] [protein=activin receptor type-1 precursor] [protein_id=NP_001096.1] [location=431..1960] [gbkey=CDS]\n"
     ]
    }
   ],
   "source": [
    "print(coding.description)"
   ]
  },
  {
   "cell_type": "code",
   "execution_count": 8,
   "metadata": {},
   "outputs": [
    {
     "name": "stdout",
     "output_type": "stream",
     "text": [
      "GAAGAGATGTGGGCCTCTGGGGCCGCTGGATTCAGTAACTTCCGTCGGGTTCTAGACTGGCTCGGCTCTGTCCAGTTTGTGCCAGATAGTCTCCCACCCCCTCCCCACCCCTCCTTTCCCCTGGAGATTTGAACGCTGCTTGCATGGGAGAAAAGCTACTTAGAGAAGAAAACGTTCCACTTAGTAACAGAAGAAAAGTCTTGGTTAAAAAGTTGTCATGAATTTGGCTTTTGGAGAGAGGCAGCAAGCCTGGAGCATTGGTAAGCGTCACACTGCCAAAGTGAGAGCTGCTGGAGAACTCATAATCCCAGGAACGCCTCTTCTACTCTCCGAGTACCCCAGTGACCAGAGTGAGAGAAGCTCTGAACGAGGGCACGCGGCTTGAAGGACTGTGGGCAGATGTGACCAAGAGCCTGCATTAAGTTGTACAATGGTAGATGGAGTGATGATTCTTCCTGTGCTTATCATGATTGCTCTCCCCTCCCCTAGTATGGAAGATGAGAAGCCCAAGGTCAACCCCAAACTCTACATGTGTGTGTGTGAAGGTCTCTCCTGCGGTAATGAGGACCACTGTGAAGGCCAGCAGTGCTTTTCCTCACTGAGCATCAACGATGGCTTCCACGTCTACCAGAAAGGCTGCTTCCAGGTTTATGAGCAGGGAAAGATGACCTGTAAGACCCCGCCGTCCCCTGGCCAAGCCGTGGAGTGCTGCCAAGGGGACTGGTGTAACAGGAACATCACGGCCCAGCTGCCCACTAAAGGAAAATCCTTCCCTGGAACACAGAATTTCCACTTGGAGGTTGGCCTCATTATTCTCTCTGTAGTGTTCGCAGTATGTCTTTTAGCCTGCCTGCTGGGAGTTGCTCTCCGAAAATTTAAAAGGCGCAACCAAGAACGCCTCAATCCCCGAGACGTGGAGTATGGCACTATCGAAGGGCTCATCACCACCAATGTTGGAGACAGCACTTTAGCAGATTTATTGGATCATTCGTGTACATCAGGAAGTGGCTCTGGTCTTCCTTTTCTGGTACAAAGAACAGTGGCTCGCCAGATTACACTGTTGGAGTGTGTCGGGAAAGGCAGGTATGGTGAGGTGTGGAGGGGCAGCTGGCAAGGGGAGAATGTTGCCGTGAAGATCTTCTCCTCCCGTGATGAGAAGTCATGGTTCAGGGAAACGGAATTGTACAACACTGTGATGCTGAGGCATGAAAATATCTTAGGTTTCATTGCTTCAGACATGACATCAAGACACTCCAGTACCCAGCTGTGGTTAATTACACATTATCATGAAATGGGATCGTTGTACGACTATCTTCAGCTTACTACTCTGGATACAGTTAGCTGCCTTCGAATAGTGCTGTCCATAGCTAGTGGTCTTGCACATTTGCACATAGAGATATTTGGGACCCAAGGGAAACCAGCCATTGCCCATCGAGATTTAAAGAGCAAAAATATTCTGGTTAAGAAGAATGGACAGTGTTGCATAGCAGATTTGGGCCTGGCAGTCATGCATTCCCAGAGCACCAATCAGCTTGATGTGGGGAACAATCCCCGTGTGGGCACCAAGCGCTACATGGCCCCCGAAGTTCTAGATGAAACCATCCAGGTGGATTGTTTCGATTCTTATAAAAGGGTCGATATTTGGGCCTTTGGACTTGTTTTGTGGGAAGTGGCCAGGCGGATGGTGAGCAATGGTATAGTGGAGGATTACAAGCCACCGTTCTACGATGTGGTTCCCAATGACCCAAGTTTTGAAGATATGAGGAAGGTAGTCTGTGTGGATCAACAAAGGCCAAACATACCCAACAGATGGTTCTCAGACCCGACATTAACCTCTCTGGCCAAGCTAATGAAAGAATGCTGGTATCAAAATCCATCCGCAAGACTCACAGCACTGCGTATCAAAAAGACTTTGACCAAAATTGATAATTCCCTCGACAAATTGAAAACTGACTGTTGACATTTTCATAGTGTCAAGAAGGAAGATTTGACGTTGTTGTCATTGTCCAGCTGGGACCTAATGCTGGCCTGACTGGTTGTCAGAATGGAATCCATCTGTCTCCCTCCCCAAATGGCTGCTTTGACAAGGCAGACGTCGTACCCAGCCATGTGTTGGGGAGACATCAAAACCACCCTAACCTCGCTCGATGACTGTGAACTGGGCATTTCACGAACTGTTCACACTGCAGAGACTAATGTTGGACAGACACTGTTGCAAAGGTAGGGACTGGAGGAACACAGAGAAATCCTAAAAGAGATCTGGGCATTAAGTCAGTGGCTTTGCATAGCTTTCACAAGTCTCCTAGACACTCCCCACGGGAAACTCAAGGAGGTGGTGAATTTTTAATCAGCAATATTGCCTGTGCTTCTCTTCTTTATTGCACTAGGAATTCTTTGCATTCCTTACTTGCACTGTTACTCTTAATTTTAAAGACCCAACTTGCCAAAATGTTGGCTGCGTACTCCACTGGTCTGTCTTTGGATAATAGGAATTCAATTTGGCAAAACAAAATGTAATGTCAGACTTTGCTGCATTTTACACATGTGCTGATGTTTACAATGATGCCGAACATTAGGAATTGTTTATACACAACTTTGCAAATTATTTATTACTTGTGCACTTAGTAGTTTTTACAAAACTGCTTTGTGCATATGTTAAAGCTTATTTTTATGTGGTCTTATGATTTTATTACAGAAATGTTTTTAACACTATACTCTAAAATGGACATTTTCTTTTATTATCAGTTAAAATCACATTTTAAGTGCTTCACATTTGTATGTGTGTAGACTGTAACTTTTTTTCAGTTCATATGCAGAACGTATTTAGCCATTACCCACGTGACACCACCGAATATATTACTGATTTAGAAGCAAAGATTTCAGTAGAATTTTAGTCCTGAACGCTACGGGGAAAATGCATTTTCTTCAGAATTATCCATTACGTGCATTTAAACTCTGCCAGAAAAAAATAACTATTTTGTTTTAATCTACTTTTTGTATTTAGTAGTTATTTGTATAAATTAAATAAACTGTTTTCAAGTCAAAAAAAAAAAAAAAAAAAA\n"
     ]
    }
   ],
   "source": [
    "print(transcript.seq)"
   ]
  },
  {
   "cell_type": "code",
   "execution_count": 9,
   "metadata": {},
   "outputs": [
    {
     "name": "stdout",
     "output_type": "stream",
     "text": [
      "ATGGTAGATGGAGTGATGATTCTTCCTGTGCTTATCATGATTGCTCTCCCCTCCCCTAGTATGGAAGATGAGAAGCCCAAGGTCAACCCCAAACTCTACATGTGTGTGTGTGAAGGTCTCTCCTGCGGTAATGAGGACCACTGTGAAGGCCAGCAGTGCTTTTCCTCACTGAGCATCAACGATGGCTTCCACGTCTACCAGAAAGGCTGCTTCCAGGTTTATGAGCAGGGAAAGATGACCTGTAAGACCCCGCCGTCCCCTGGCCAAGCCGTGGAGTGCTGCCAAGGGGACTGGTGTAACAGGAACATCACGGCCCAGCTGCCCACTAAAGGAAAATCCTTCCCTGGAACACAGAATTTCCACTTGGAGGTTGGCCTCATTATTCTCTCTGTAGTGTTCGCAGTATGTCTTTTAGCCTGCCTGCTGGGAGTTGCTCTCCGAAAATTTAAAAGGCGCAACCAAGAACGCCTCAATCCCCGAGACGTGGAGTATGGCACTATCGAAGGGCTCATCACCACCAATGTTGGAGACAGCACTTTAGCAGATTTATTGGATCATTCGTGTACATCAGGAAGTGGCTCTGGTCTTCCTTTTCTGGTACAAAGAACAGTGGCTCGCCAGATTACACTGTTGGAGTGTGTCGGGAAAGGCAGGTATGGTGAGGTGTGGAGGGGCAGCTGGCAAGGGGAGAATGTTGCCGTGAAGATCTTCTCCTCCCGTGATGAGAAGTCATGGTTCAGGGAAACGGAATTGTACAACACTGTGATGCTGAGGCATGAAAATATCTTAGGTTTCATTGCTTCAGACATGACATCAAGACACTCCAGTACCCAGCTGTGGTTAATTACACATTATCATGAAATGGGATCGTTGTACGACTATCTTCAGCTTACTACTCTGGATACAGTTAGCTGCCTTCGAATAGTGCTGTCCATAGCTAGTGGTCTTGCACATTTGCACATAGAGATATTTGGGACCCAAGGGAAACCAGCCATTGCCCATCGAGATTTAAAGAGCAAAAATATTCTGGTTAAGAAGAATGGACAGTGTTGCATAGCAGATTTGGGCCTGGCAGTCATGCATTCCCAGAGCACCAATCAGCTTGATGTGGGGAACAATCCCCGTGTGGGCACCAAGCGCTACATGGCCCCCGAAGTTCTAGATGAAACCATCCAGGTGGATTGTTTCGATTCTTATAAAAGGGTCGATATTTGGGCCTTTGGACTTGTTTTGTGGGAAGTGGCCAGGCGGATGGTGAGCAATGGTATAGTGGAGGATTACAAGCCACCGTTCTACGATGTGGTTCCCAATGACCCAAGTTTTGAAGATATGAGGAAGGTAGTCTGTGTGGATCAACAAAGGCCAAACATACCCAACAGATGGTTCTCAGACCCGACATTAACCTCTCTGGCCAAGCTAATGAAAGAATGCTGGTATCAAAATCCATCCGCAAGACTCACAGCACTGCGTATCAAAAAGACTTTGACCAAAATTGATAATTCCCTCGACAAATTGAAAACTGACTGTTGA\n"
     ]
    }
   ],
   "source": [
    "print(coding.seq)"
   ]
  },
  {
   "cell_type": "code",
   "execution_count": 10,
   "metadata": {},
   "outputs": [
    {
     "name": "stdout",
     "output_type": "stream",
     "text": [
      "('Lenth of gene:', 3062)\n",
      "('Lenth of coding sequence:', 1530)\n"
     ]
    }
   ],
   "source": [
    "print(\"Lenth of gene:\",len(transcript.seq))\n",
    "print(\"Lenth of coding sequence:\",len(coding.seq))"
   ]
  },
  {
   "cell_type": "code",
   "execution_count": 11,
   "metadata": {},
   "outputs": [
    {
     "data": {
      "text/plain": [
       "Seq('TTATTGGATCATTCGTGTACATCAGGAAGTGGCTCTGGTCTTCCTTTTCTGGTA...AAA', SingleLetterAlphabet())"
      ]
     },
     "execution_count": 11,
     "metadata": {},
     "output_type": "execute_result"
    }
   ],
   "source": [
    "# find the start of the coding sequence in the gene\n",
    "# we know from the info above that the gene starts at location 977\n",
    "# python slicing offers quick access, note that python starts counting at zero:\n",
    "transcript.seq[976:]"
   ]
  },
  {
   "cell_type": "markdown",
   "metadata": {},
   "source": [
    "# Simple sequence operations "
   ]
  },
  {
   "cell_type": "code",
   "execution_count": 12,
   "metadata": {},
   "outputs": [
    {
     "data": {
      "text/plain": [
       "850"
      ]
     },
     "execution_count": 12,
     "metadata": {},
     "output_type": "execute_result"
    }
   ],
   "source": [
    "transcript.seq.count('A')"
   ]
  },
  {
   "cell_type": "markdown",
   "metadata": {},
   "source": [
    "## Two ways to compute GC content\n",
    "\n",
    "G-C pairs have a stronger bonds due to an addition H-bond\n",
    "<img src=\"GC.png\">"
   ]
  },
  {
   "cell_type": "code",
   "execution_count": 13,
   "metadata": {},
   "outputs": [
    {
     "name": "stdout",
     "output_type": "stream",
     "text": [
      "44.3500979752\n",
      "44.3500979752\n"
     ]
    }
   ],
   "source": [
    "print(100 * float(transcript.seq.count(\"G\") + transcript.seq.count(\"C\")) / len(transcript.seq))\n",
    "\n",
    "from Bio.SeqUtils import GC\n",
    "print(GC(transcript.seq))"
   ]
  },
  {
   "cell_type": "markdown",
   "metadata": {},
   "source": [
    "## find first occurence of a substring"
   ]
  },
  {
   "cell_type": "code",
   "execution_count": 14,
   "metadata": {},
   "outputs": [
    {
     "name": "stdout",
     "output_type": "stream",
     "text": [
      "6\n",
      "0\n"
     ]
    }
   ],
   "source": [
    "print(transcript.seq.find('ATG'))\n",
    "print(coding.seq.find('ATG'))"
   ]
  },
  {
   "cell_type": "markdown",
   "metadata": {},
   "source": [
    "## obtain the complemenatry sequence\n",
    "compare with sequence above to see whether it makes sense to you"
   ]
  },
  {
   "cell_type": "code",
   "execution_count": 15,
   "metadata": {},
   "outputs": [
    {
     "name": "stdout",
     "output_type": "stream",
     "text": [
      "CTTCTCTACACCCGGAGACCCCGGCGACCTAAGTCATTGAAGGCAGCCCAAGATCTGACCGAGCCGAGACAGGTCAAACACGGTCTATCAGAGGGTGGGGGAGGGGTGGGGAGGAAAGGGGACCTCTAAACTTGCGACGAACGTACCCTCTTTTCGATGAATCTCTTCTTTTGCAAGGTGAATCATTGTCTTCTTTTCAGAACCAATTTTTCAACAGTACTTAAACCGAAAACCTCTCTCCGTCGTTCGGACCTCGTAACCATTCGCAGTGTGACGGTTTCACTCTCGACGACCTCTTGAGTATTAGGGTCCTTGCGGAGAAGATGAGAGGCTCATGGGGTCACTGGTCTCACTCTCTTCGAGACTTGCTCCCGTGCGCCGAACTTCCTGACACCCGTCTACACTGGTTCTCGGACGTAATTCAACATGTTACCATCTACCTCACTACTAAGAAGGACACGAATAGTACTAACGAGAGGGGAGGGGATCATACCTTCTACTCTTCGGGTTCCAGTTGGGGTTTGAGATGTACACACACACACTTCCAGAGAGGACGCCATTACTCCTGGTGACACTTCCGGTCGTCACGAAAAGGAGTGACTCGTAGTTGCTACCGAAGGTGCAGATGGTCTTTCCGACGAAGGTCCAAATACTCGTCCCTTTCTACTGGACATTCTGGGGCGGCAGGGGACCGGTTCGGCACCTCACGACGGTTCCCCTGACCACATTGTCCTTGTAGTGCCGGGTCGACGGGTGATTTCCTTTTAGGAAGGGACCTTGTGTCTTAAAGGTGAACCTCCAACCGGAGTAATAAGAGAGACATCACAAGCGTCATACAGAAAATCGGACGGACGACCCTCAACGAGAGGCTTTTAAATTTTCCGCGTTGGTTCTTGCGGAGTTAGGGGCTCTGCACCTCATACCGTGATAGCTTCCCGAGTAGTGGTGGTTACAACCTCTGTCGTGAAATCGTCTAAATAACCTAGTAAGCACATGTAGTCCTTCACCGAGACCAGAAGGAAAAGACCATGTTTCTTGTCACCGAGCGGTCTAATGTGACAACCTCACACAGCCCTTTCCGTCCATACCACTCCACACCTCCCCGTCGACCGTTCCCCTCTTACAACGGCACTTCTAGAAGAGGAGGGCACTACTCTTCAGTACCAAGTCCCTTTGCCTTAACATGTTGTGACACTACGACTCCGTACTTTTATAGAATCCAAAGTAACGAAGTCTGTACTGTAGTTCTGTGAGGTCATGGGTCGACACCAATTAATGTGTAATAGTACTTTACCCTAGCAACATGCTGATAGAAGTCGAATGATGAGACCTATGTCAATCGACGGAAGCTTATCACGACAGGTATCGATCACCAGAACGTGTAAACGTGTATCTCTATAAACCCTGGGTTCCCTTTGGTCGGTAACGGGTAGCTCTAAATTTCTCGTTTTTATAAGACCAATTCTTCTTACCTGTCACAACGTATCGTCTAAACCCGGACCGTCAGTACGTAAGGGTCTCGTGGTTAGTCGAACTACACCCCTTGTTAGGGGCACACCCGTGGTTCGCGATGTACCGGGGGCTTCAAGATCTACTTTGGTAGGTCCACCTAACAAAGCTAAGAATATTTTCCCAGCTATAAACCCGGAAACCTGAACAAAACACCCTTCACCGGTCCGCCTACCACTCGTTACCATATCACCTCCTAATGTTCGGTGGCAAGATGCTACACCAAGGGTTACTGGGTTCAAAACTTCTATACTCCTTCCATCAGACACACCTAGTTGTTTCCGGTTTGTATGGGTTGTCTACCAAGAGTCTGGGCTGTAATTGGAGAGACCGGTTCGATTACTTTCTTACGACCATAGTTTTAGGTAGGCGTTCTGAGTGTCGTGACGCATAGTTTTTCTGAAACTGGTTTTAACTATTAAGGGAGCTGTTTAACTTTTGACTGACAACTGTAAAAGTATCACAGTTCTTCCTTCTAAACTGCAACAACAGTAACAGGTCGACCCTGGATTACGACCGGACTGACCAACAGTCTTACCTTAGGTAGACAGAGGGAGGGGTTTACCGACGAAACTGTTCCGTCTGCAGCATGGGTCGGTACACAACCCCTCTGTAGTTTTGGTGGGATTGGAGCGAGCTACTGACACTTGACCCGTAAAGTGCTTGACAAGTGTGACGTCTCTGATTACAACCTGTCTGTGACAACGTTTCCATCCCTGACCTCCTTGTGTCTCTTTAGGATTTTCTCTAGACCCGTAATTCAGTCACCGAAACGTATCGAAAGTGTTCAGAGGATCTGTGAGGGGTGCCCTTTGAGTTCCTCCACCACTTAAAAATTAGTCGTTATAACGGACACGAAGAGAAGAAATAACGTGATCCTTAAGAAACGTAAGGAATGAACGTGACAATGAGAATTAAAATTTCTGGGTTGAACGGTTTTACAACCGACGCATGAGGTGACCAGACAGAAACCTATTATCCTTAAGTTAAACCGTTTTGTTTTACATTACAGTCTGAAACGACGTAAAATGTGTACACGACTACAAATGTTACTACGGCTTGTAATCCTTAACAAATATGTGTTGAAACGTTTAATAAATAATGAACACGTGAATCATCAAAAATGTTTTGACGAAACACGTATACAATTTCGAATAAAAATACACCAGAATACTAAAATAATGTCTTTACAAAAATTGTGATATGAGATTTTACCTGTAAAAGAAAATAATAGTCAATTTTAGTGTAAAATTCACGAAGTGTAAACATACACACATCTGACATTGAAAAAAAGTCAAGTATACGTCTTGCATAAATCGGTAATGGGTGCACTGTGGTGGCTTATATAATGACTAAATCTTCGTTTCTAAAGTCATCTTAAAATCAGGACTTGCGATGCCCCTTTTACGTAAAAGAAGTCTTAATAGGTAATGCACGTAAATTTGAGACGGTCTTTTTTTATTGATAAAACAAAATTAGATGAAAAACATAAATCATCAATAAACATATTTAATTTATTTGACAAAAGTTCAGTTTTTTTTTTTTTTTTTTTT\n"
     ]
    }
   ],
   "source": [
    "print(transcript.seq.complement())"
   ]
  },
  {
   "cell_type": "markdown",
   "metadata": {},
   "source": [
    "# Transcription and translation"
   ]
  },
  {
   "cell_type": "code",
   "execution_count": 16,
   "metadata": {},
   "outputs": [
    {
     "name": "stdout",
     "output_type": "stream",
     "text": [
      "AUGGUAGAUGGAGUGAUGAUUCUUCCUGUGCUUAUCAUGAUUGCUCUCCCCUCCCCUAGUAUGGAAGAUGAGAAGCCCAAGGUCAACCCCAAACUCUACAUGUGUGUGUGUGAAGGUCUCUCCUGCGGUAAUGAGGACCACUGUGAAGGCCAGCAGUGCUUUUCCUCACUGAGCAUCAACGAUGGCUUCCACGUCUACCAGAAAGGCUGCUUCCAGGUUUAUGAGCAGGGAAAGAUGACCUGUAAGACCCCGCCGUCCCCUGGCCAAGCCGUGGAGUGCUGCCAAGGGGACUGGUGUAACAGGAACAUCACGGCCCAGCUGCCCACUAAAGGAAAAUCCUUCCCUGGAACACAGAAUUUCCACUUGGAGGUUGGCCUCAUUAUUCUCUCUGUAGUGUUCGCAGUAUGUCUUUUAGCCUGCCUGCUGGGAGUUGCUCUCCGAAAAUUUAAAAGGCGCAACCAAGAACGCCUCAAUCCCCGAGACGUGGAGUAUGGCACUAUCGAAGGGCUCAUCACCACCAAUGUUGGAGACAGCACUUUAGCAGAUUUAUUGGAUCAUUCGUGUACAUCAGGAAGUGGCUCUGGUCUUCCUUUUCUGGUACAAAGAACAGUGGCUCGCCAGAUUACACUGUUGGAGUGUGUCGGGAAAGGCAGGUAUGGUGAGGUGUGGAGGGGCAGCUGGCAAGGGGAGAAUGUUGCCGUGAAGAUCUUCUCCUCCCGUGAUGAGAAGUCAUGGUUCAGGGAAACGGAAUUGUACAACACUGUGAUGCUGAGGCAUGAAAAUAUCUUAGGUUUCAUUGCUUCAGACAUGACAUCAAGACACUCCAGUACCCAGCUGUGGUUAAUUACACAUUAUCAUGAAAUGGGAUCGUUGUACGACUAUCUUCAGCUUACUACUCUGGAUACAGUUAGCUGCCUUCGAAUAGUGCUGUCCAUAGCUAGUGGUCUUGCACAUUUGCACAUAGAGAUAUUUGGGACCCAAGGGAAACCAGCCAUUGCCCAUCGAGAUUUAAAGAGCAAAAAUAUUCUGGUUAAGAAGAAUGGACAGUGUUGCAUAGCAGAUUUGGGCCUGGCAGUCAUGCAUUCCCAGAGCACCAAUCAGCUUGAUGUGGGGAACAAUCCCCGUGUGGGCACCAAGCGCUACAUGGCCCCCGAAGUUCUAGAUGAAACCAUCCAGGUGGAUUGUUUCGAUUCUUAUAAAAGGGUCGAUAUUUGGGCCUUUGGACUUGUUUUGUGGGAAGUGGCCAGGCGGAUGGUGAGCAAUGGUAUAGUGGAGGAUUACAAGCCACCGUUCUACGAUGUGGUUCCCAAUGACCCAAGUUUUGAAGAUAUGAGGAAGGUAGUCUGUGUGGAUCAACAAAGGCCAAACAUACCCAACAGAUGGUUCUCAGACCCGACAUUAACCUCUCUGGCCAAGCUAAUGAAAGAAUGCUGGUAUCAAAAUCCAUCCGCAAGACUCACAGCACUGCGUAUCAAAAAGACUUUGACCAAAAUUGAUAAUUCCCUCGACAAAUUGAAAACUGACUGUUGA\n"
     ]
    }
   ],
   "source": [
    "print(coding.seq.transcribe())"
   ]
  },
  {
   "cell_type": "code",
   "execution_count": 17,
   "metadata": {},
   "outputs": [
    {
     "name": "stdout",
     "output_type": "stream",
     "text": [
      "MVDGVMILPVLIMIALPSPSMEDEKPKVNPKLYMCVCEGLSCGNEDHCEGQQCFSSLSINDGFHVYQKGCFQVYEQGKMTCKTPPSPGQAVECCQGDWCNRNITAQLPTKGKSFPGTQNFHLEVGLIILSVVFAVCLLACLLGVALRKFKRRNQERLNPRDVEYGTIEGLITTNVGDSTLADLLDHSCTSGSGSGLPFLVQRTVARQITLLECVGKGRYGEVWRGSWQGENVAVKIFSSRDEKSWFRETELYNTVMLRHENILGFIASDMTSRHSSTQLWLITHYHEMGSLYDYLQLTTLDTVSCLRIVLSIASGLAHLHIEIFGTQGKPAIAHRDLKSKNILVKKNGQCCIADLGLAVMHSQSTNQLDVGNNPRVGTKRYMAPEVLDETIQVDCFDSYKRVDIWAFGLVLWEVARRMVSNGIVEDYKPPFYDVVPNDPSFEDMRKVVCVDQQRPNIPNRWFSDPTLTSLAKLMKECWYQNPSARLTALRIKKTLTKIDNSLDKLKTDC*\n"
     ]
    }
   ],
   "source": [
    "print(coding.seq.translate())"
   ]
  },
  {
   "cell_type": "markdown",
   "metadata": {},
   "source": [
    "We could also tranlate the whole RNA:"
   ]
  },
  {
   "cell_type": "code",
   "execution_count": 18,
   "metadata": {},
   "outputs": [
    {
     "name": "stdout",
     "output_type": "stream",
     "text": [
      "EEMWASGAAGFSNFRRVLDWLGSVQFVPDSLPPPPHPSFPLEI*TLLAWEKSYLEKKTFHLVTEEKSWLKSCHEFGFWREAASLEHW*ASHCQSESCWRTHNPRNASSTLRVPQ*PE*EKL*TRARGLKDCGQM*PRACIKLYNGRWSDDSSCAYHDCSPLP*YGR*EAQGQPQTLHVCV*RSLLR**GPL*RPAVLFLTEHQRWLPRLPERLLPGL*AGKDDL*DPAVPWPSRGVLPRGLV*QEHHGPAAH*RKILPWNTEFPLGGWPHYSLCSVRSMSFSLPAGSCSPKI*KAQPRTPQSPRRGVWHYRRAHHHQCWRQHFSRFIGSFVYIRKWLWSSFSGTKNSGSPDYTVGVCRERQVW*GVEGQLARGECCREDLLLP**EVMVQGNGIVQHCDAEA*KYLRFHCFRHDIKTLQYPAVVNYTLS*NGIVVRLSSAYYSGYS*LPSNSAVHS*WSCTFAHRDIWDPRETSHCPSRFKEQKYSG*EEWTVLHSRFGPGSHAFPEHQSA*CGEQSPCGHQALHGPRSSR*NHPGGLFRFL*KGRYLGLWTCFVGSGQADGEQWYSGGLQATVLRCGSQ*PKF*RYEEGSLCGSTKAKHTQQMVLRPDINLSGQANERMLVSKSIRKTHSTAYQKDFDQN**FPRQIEN*LLTFS*CQEGRFDVVVIVQLGPNAGLTGCQNGIHLSPSPNGCFDKADVVPSHVLGRHQNHPNLAR*L*TGHFTNCSHCRD*CWTDTVAKVGTGGTQRNPKRDLGIKSVALHSFHKSPRHSPRETQGGGEFLISNIACASLLYCTRNSLHSLLALLLLILKTQLAKMLAAYSTGLSLDNRNSIWQNKM*CQTLLHFTHVLMFTMMPNIRNCLYTTLQIIYYLCT**FLQNCFVHMLKLIFMWSYDFITEMFLTLYSKMDIFFYYQLKSHFKCFTFVCV*TVTFFQFICRTYLAITHVTPPNILLI*KQRFQ*NFSPERYGENAFSSELSITCI*TLPEKNNYFVLIYFLYLVVICIN*INCFQVKKKKKK\n"
     ]
    },
    {
     "name": "stderr",
     "output_type": "stream",
     "text": [
      "/usr/lib64/python2.7/site-packages/Bio/Seq.py:2309: BiopythonWarning: Partial codon, len(sequence) not a multiple of three. Explicitly trim the sequence or add trailing N before translation. This may become an error in future.\n",
      "  BiopythonWarning)\n"
     ]
    }
   ],
   "source": [
    "print(transcript.seq.translate())"
   ]
  },
  {
   "cell_type": "markdown",
   "metadata": {},
   "source": [
    "This sequence is different from the translated coding sequence, and does not even contain a subset of the sequence above. And, we get a warning. Why?\n",
    "\n",
    "An alternative is to start at the beginning of the coding sequence (see above):"
   ]
  },
  {
   "cell_type": "code",
   "execution_count": 19,
   "metadata": {},
   "outputs": [
    {
     "name": "stdout",
     "output_type": "stream",
     "text": [
      "LLDHSCTSGSGSGLPFLVQRTVARQITLLECVGKGRYGEVWRGSWQGENVAVKIFSSRDEKSWFRETELYNTVMLRHENILGFIASDMTSRHSSTQLWLITHYHEMGSLYDYLQLTTLDTVSCLRIVLSIASGLAHLHIEIFGTQGKPAIAHRDLKSKNILVKKNGQCCIADLGLAVMHSQSTNQLDVGNNPRVGTKRYMAPEVLDETIQVDCFDSYKRVDIWAFGLVLWEVARRMVSNGIVEDYKPPFYDVVPNDPSFEDMRKVVCVDQQRPNIPNRWFSDPTLTSLAKLMKECWYQNPSARLTALRIKKTLTKIDNSLDKLKTDC*HFHSVKKEDLTLLSLSSWDLMLA*LVVRMESICLPPQMAALTRQTSYPAMCWGDIKTTLTSLDDCELGISRTVHTAETNVGQTLLQR*GLEEHREILKEIWALSQWLCIAFTSLLDTPHGKLKEVVNF*SAILPVLLFFIALGILCIPYLHCYS*F*RPNLPKCWLRTPLVCLWIIGIQFGKTKCNVRLCCILHMC*CLQ*CRTLGIVYTQLCKLFITCALSSFYKTALCIC*SLFLCGLMILLQKCF*HYTLKWTFSFIIS*NHILSASHLYVCRL*LFFSSYAERI*PLPT*HHRIYY*FRSKDFSRILVLNATGKMHFLQNYPLRAFKLCQKKITILF*STFCI**LFV*IK*TVFKSKKKKKK\n"
     ]
    }
   ],
   "source": [
    "print(transcript.seq[976:].translate())"
   ]
  },
  {
   "cell_type": "markdown",
   "metadata": {},
   "source": [
    "This gives a sensible result for our example. However, tge sequence is longer than the one we had above for the coding sequance. Does this matter? Find an example where it does not work. Why? \n",
    "\n",
    "We could also search for a start codon:"
   ]
  },
  {
   "cell_type": "code",
   "execution_count": 20,
   "metadata": {},
   "outputs": [
    {
     "name": "stdout",
     "output_type": "stream",
     "text": [
      "6\n",
      "MWASGAAGFSNFRRVLDWLGSVQFVPDSLPPPPHPSFPLEI*TLLAWEKSYLEKKTFHLVTEEKSWLKSCHEFGFWREAASLEHW*ASHCQSESCWRTHNPRNASSTLRVPQ*PE*EKL*TRARGLKDCGQM*PRACIKLYNGRWSDDSSCAYHDCSPLP*YGR*EAQGQPQTLHVCV*RSLLR**GPL*RPAVLFLTEHQRWLPRLPERLLPGL*AGKDDL*DPAVPWPSRGVLPRGLV*QEHHGPAAH*RKILPWNTEFPLGGWPHYSLCSVRSMSFSLPAGSCSPKI*KAQPRTPQSPRRGVWHYRRAHHHQCWRQHFSRFIGSFVYIRKWLWSSFSGTKNSGSPDYTVGVCRERQVW*GVEGQLARGECCREDLLLP**EVMVQGNGIVQHCDAEA*KYLRFHCFRHDIKTLQYPAVVNYTLS*NGIVVRLSSAYYSGYS*LPSNSAVHS*WSCTFAHRDIWDPRETSHCPSRFKEQKYSG*EEWTVLHSRFGPGSHAFPEHQSA*CGEQSPCGHQALHGPRSSR*NHPGGLFRFL*KGRYLGLWTCFVGSGQADGEQWYSGGLQATVLRCGSQ*PKF*RYEEGSLCGSTKAKHTQQMVLRPDINLSGQANERMLVSKSIRKTHSTAYQKDFDQN**FPRQIEN*LLTFS*CQEGRFDVVVIVQLGPNAGLTGCQNGIHLSPSPNGCFDKADVVPSHVLGRHQNHPNLAR*L*TGHFTNCSHCRD*CWTDTVAKVGTGGTQRNPKRDLGIKSVALHSFHKSPRHSPRETQGGGEFLISNIACASLLYCTRNSLHSLLALLLLILKTQLAKMLAAYSTGLSLDNRNSIWQNKM*CQTLLHFTHVLMFTMMPNIRNCLYTTLQIIYYLCT**FLQNCFVHMLKLIFMWSYDFITEMFLTLYSKMDIFFYYQLKSHFKCFTFVCV*TVTFFQFICRTYLAITHVTPPNILLI*KQRFQ*NFSPERYGENAFSSELSITCI*TLPEKNNYFVLIYFLYLVVICIN*INCFQVKKKKKK\n"
     ]
    }
   ],
   "source": [
    "codingStart = transcript.seq.find('ATG')\n",
    "print(codingStart)\n",
    "print(transcript.seq[codingStart:].translate())"
   ]
  },
  {
   "cell_type": "markdown",
   "metadata": {},
   "source": [
    "Does this make sense?"
   ]
  },
  {
   "cell_type": "markdown",
   "metadata": {},
   "source": [
    "# Open Reading Frames (ORFs)"
   ]
  },
  {
   "cell_type": "markdown",
   "metadata": {},
   "source": [
    "How many start codons are there? Where are they?"
   ]
  },
  {
   "cell_type": "code",
   "execution_count": 21,
   "metadata": {},
   "outputs": [
    {
     "name": "stdout",
     "output_type": "stream",
     "text": [
      "61\n"
     ]
    }
   ],
   "source": [
    "print(transcript.seq.count('ATG'))"
   ]
  },
  {
   "cell_type": "code",
   "execution_count": 22,
   "metadata": {},
   "outputs": [
    {
     "name": "stdout",
     "output_type": "stream",
     "text": [
      "6\n",
      "143\n",
      "217\n",
      "399\n",
      "430\n",
      "437\n",
      "445\n",
      "466\n",
      "490\n",
      "497\n",
      "529\n",
      "560\n",
      "611\n",
      "650\n",
      "664\n",
      "834\n",
      "920\n",
      "950\n",
      "1085\n",
      "1121\n",
      "1151\n",
      "1161\n",
      "1195\n",
      "1205\n",
      "1237\n",
      "1286\n",
      "1291\n",
      "1469\n",
      "1507\n",
      "1535\n",
      "1573\n",
      "1592\n",
      "1681\n",
      "1691\n",
      "1727\n",
      "1739\n",
      "1759\n",
      "1809\n",
      "1849\n",
      "1857\n",
      "2020\n",
      "2044\n",
      "2071\n",
      "2107\n",
      "2147\n",
      "2195\n",
      "2448\n",
      "2511\n",
      "2516\n",
      "2542\n",
      "2550\n",
      "2559\n",
      "2562\n",
      "2652\n",
      "2670\n",
      "2680\n",
      "2697\n",
      "2721\n",
      "2777\n",
      "2810\n",
      "2914\n"
     ]
    }
   ],
   "source": [
    "seq = transcript.seq\n",
    "i = 0\n",
    "while seq[i:].find('ATG')>-1:\n",
    "    j = seq[i:].find('ATG')\n",
    "    i = i + j + 3\n",
    "    print(i - 3)\n"
   ]
  },
  {
   "cell_type": "markdown",
   "metadata": {},
   "source": [
    "This is a list of possible coding region starting points."
   ]
  },
  {
   "cell_type": "markdown",
   "metadata": {},
   "source": [
    "## Alternative strategy\n",
    "\n",
    "Each true ORF should end with a stop codon. So we can translate the sequence using all three different reading farmes, and search for start-> stop codon sequences."
   ]
  },
  {
   "cell_type": "code",
   "execution_count": 23,
   "metadata": {},
   "outputs": [
    {
     "name": "stdout",
     "output_type": "stream",
     "text": [
      "[Seq('EEMWASGAAGFSNFRRVLDWLGSVQFVPDSLPPPPHPSFPLEI', HasStopCodon(ExtendedIUPACProtein(), '*')), Seq('TLLAWEKSYLEKKTFHLVTEEKSWLKSCHEFGFWREAASLEHW', HasStopCodon(ExtendedIUPACProtein(), '*')), Seq('ASHCQSESCWRTHNPRNASSTLRVPQ', HasStopCodon(ExtendedIUPACProtein(), '*')), Seq('PE', HasStopCodon(ExtendedIUPACProtein(), '*')), Seq('EKL', HasStopCodon(ExtendedIUPACProtein(), '*')), Seq('TRARGLKDCGQM', HasStopCodon(ExtendedIUPACProtein(), '*')), Seq('PRACIKLYNGRWSDDSSCAYHDCSPLP', HasStopCodon(ExtendedIUPACProtein(), '*')), Seq('YGR', HasStopCodon(ExtendedIUPACProtein(), '*')), Seq('EAQGQPQTLHVCV', HasStopCodon(ExtendedIUPACProtein(), '*')), Seq('RSLLR', HasStopCodon(ExtendedIUPACProtein(), '*')), Seq('', HasStopCodon(ExtendedIUPACProtein(), '*')), Seq('GPL', HasStopCodon(ExtendedIUPACProtein(), '*')), Seq('RPAVLFLTEHQRWLPRLPERLLPGL', HasStopCodon(ExtendedIUPACProtein(), '*')), Seq('AGKDDL', HasStopCodon(ExtendedIUPACProtein(), '*')), Seq('DPAVPWPSRGVLPRGLV', HasStopCodon(ExtendedIUPACProtein(), '*')), Seq('QEHHGPAAH', HasStopCodon(ExtendedIUPACProtein(), '*')), Seq('RKILPWNTEFPLGGWPHYSLCSVRSMSFSLPAGSCSPKI', HasStopCodon(ExtendedIUPACProtein(), '*')), Seq('KAQPRTPQSPRRGVWHYRRAHHHQCWRQHFSRFIGSFVYIRKWLWSSFSGTKNS...QVW', HasStopCodon(ExtendedIUPACProtein(), '*')), Seq('GVEGQLARGECCREDLLLP', HasStopCodon(ExtendedIUPACProtein(), '*')), Seq('', HasStopCodon(ExtendedIUPACProtein(), '*')), Seq('EVMVQGNGIVQHCDAEA', HasStopCodon(ExtendedIUPACProtein(), '*')), Seq('KYLRFHCFRHDIKTLQYPAVVNYTLS', HasStopCodon(ExtendedIUPACProtein(), '*')), Seq('NGIVVRLSSAYYSGYS', HasStopCodon(ExtendedIUPACProtein(), '*')), Seq('LPSNSAVHS', HasStopCodon(ExtendedIUPACProtein(), '*')), Seq('WSCTFAHRDIWDPRETSHCPSRFKEQKYSG', HasStopCodon(ExtendedIUPACProtein(), '*')), Seq('EEWTVLHSRFGPGSHAFPEHQSA', HasStopCodon(ExtendedIUPACProtein(), '*')), Seq('CGEQSPCGHQALHGPRSSR', HasStopCodon(ExtendedIUPACProtein(), '*')), Seq('NHPGGLFRFL', HasStopCodon(ExtendedIUPACProtein(), '*')), Seq('KGRYLGLWTCFVGSGQADGEQWYSGGLQATVLRCGSQ', HasStopCodon(ExtendedIUPACProtein(), '*')), Seq('PKF', HasStopCodon(ExtendedIUPACProtein(), '*')), Seq('RYEEGSLCGSTKAKHTQQMVLRPDINLSGQANERMLVSKSIRKTHSTAYQKDFDQN', HasStopCodon(ExtendedIUPACProtein(), '*')), Seq('', HasStopCodon(ExtendedIUPACProtein(), '*')), Seq('FPRQIEN', HasStopCodon(ExtendedIUPACProtein(), '*')), Seq('LLTFS', HasStopCodon(ExtendedIUPACProtein(), '*')), Seq('CQEGRFDVVVIVQLGPNAGLTGCQNGIHLSPSPNGCFDKADVVPSHVLGRHQNHPNLAR', HasStopCodon(ExtendedIUPACProtein(), '*')), Seq('L', HasStopCodon(ExtendedIUPACProtein(), '*')), Seq('TGHFTNCSHCRD', HasStopCodon(ExtendedIUPACProtein(), '*')), Seq('CWTDTVAKVGTGGTQRNPKRDLGIKSVALHSFHKSPRHSPRETQGGGEFLISNI...NKM', HasStopCodon(ExtendedIUPACProtein(), '*')), Seq('CQTLLHFTHVLMFTMMPNIRNCLYTTLQIIYYLCT', HasStopCodon(ExtendedIUPACProtein(), '*')), Seq('', HasStopCodon(ExtendedIUPACProtein(), '*')), Seq('FLQNCFVHMLKLIFMWSYDFITEMFLTLYSKMDIFFYYQLKSHFKCFTFVCV', HasStopCodon(ExtendedIUPACProtein(), '*')), Seq('TVTFFQFICRTYLAITHVTPPNILLI', HasStopCodon(ExtendedIUPACProtein(), '*')), Seq('KQRFQ', HasStopCodon(ExtendedIUPACProtein(), '*')), Seq('NFSPERYGENAFSSELSITCI', HasStopCodon(ExtendedIUPACProtein(), '*')), Seq('TLPEKNNYFVLIYFLYLVVICIN', HasStopCodon(ExtendedIUPACProtein(), '*')), Seq('INCFQVKKKKKK', HasStopCodon(ExtendedIUPACProtein(), '*'))]\n"
     ]
    }
   ],
   "source": [
    "f1 = transcript.seq.translate().split('*')\n",
    "f2 = transcript.seq[1:].translate().split('*')\n",
    "f3 = transcript.seq[2:].translate().split('*')\n",
    "print(f1)\n"
   ]
  },
  {
   "cell_type": "markdown",
   "metadata": {},
   "source": [
    "These are all candidate coding sequences ending with a stop codon. Now check if there is a start codon. Since we have now got amino acis sequences, we should search for the amino acid equivalent of 'ATG', which is 'M' (Methionine)"
   ]
  },
  {
   "cell_type": "code",
   "execution_count": 24,
   "metadata": {},
   "outputs": [
    {
     "name": "stdout",
     "output_type": "stream",
     "text": [
      "Reading frame: 1\n",
      "126\n",
      "6\n",
      "45\n",
      "48\n",
      "117\n",
      "69\n",
      "75\n",
      "135\n",
      "Reading frame: 2\n",
      "168\n",
      "1530\n",
      "12\n",
      "180\n",
      "9\n",
      "27\n",
      "72\n",
      "Reading frame: 3\n",
      "78\n",
      "9\n",
      "105\n",
      "57\n",
      "51\n",
      "48\n",
      "45\n",
      "15\n",
      "69\n",
      "18\n",
      "57\n",
      "96\n",
      "9\n",
      "36\n",
      "105\n",
      "60\n",
      "117\n"
     ]
    }
   ],
   "source": [
    "for i,f in enumerate((f1,f2,f3)):\n",
    "    print(\"Reading frame: \"+str(i+1))\n",
    "    for p in f:\n",
    "        M = p.find('M')\n",
    "        if M>=0:\n",
    "            print((len(p)-M+1)*3)"
   ]
  },
  {
   "cell_type": "markdown",
   "metadata": {},
   "source": [
    "These are the lengths of all possible open reading frames. There are many different candidates. Often the longest is the correct one, here that is the case too.\n",
    "\n",
    "Note: here we know the 5' -> 3' direction (can you see why?), but generally both directions should be searched."
   ]
  },
  {
   "cell_type": "markdown",
   "metadata": {},
   "source": [
    "## Putting everything together"
   ]
  },
  {
   "cell_type": "code",
   "execution_count": 25,
   "metadata": {},
   "outputs": [
    {
     "name": "stdout",
     "output_type": "stream",
     "text": [
      "MLAAYSTGLS...NKM - fragment length: 69, strand: 1, frame: 0, pos: 0, start: 253, coding length 69, has start True\n",
      "MVDGVMILPV...TDC - fragment length: 1530, strand: 1, frame: 1, pos: 0, start: 49, coding length 1530, has start True\n",
      "MDFDTSILSL...GNA - fragment length: 372, strand: -1, frame: 0, pos: 0, start: 10, coding length 372, has start True\n",
      "MSPSIVPYST...PCS - fragment length: 294, strand: -1, frame: 2, pos: 0, start: 49, coding length 294, has start True\n"
     ]
    }
   ],
   "source": [
    "# a simple ORF finder\n",
    "\n",
    "seq = transcript.seq\n",
    "\n",
    "# search for at least 100 amino acid length:\n",
    "min_len = 100\n",
    "\n",
    "for strand, nuc in [(+1, seq), (-1, seq.reverse_complement())]:\n",
    "    for frame in range(3):\n",
    "        pos = 0\n",
    "        for prot in nuc[frame:].translate().split('*'):\n",
    "            if len(prot) >= min_len:\n",
    "                start = prot.find(\"M\")\n",
    "                print(\"%s...%s - fragment length: %i, strand: %i, frame: %i, pos: %i, start: %i, coding length %i, has start %s\" % (prot[start:start+10], prot[-3:], (len(prot)-start+1)*3, strand, frame, pos*3, (max(0,start)+pos+frame)*3+1, (len(prot[start:])+1)*3, start>-1))\n",
    "                pos = pos + len(prot)+1"
   ]
  },
  {
   "cell_type": "code",
   "execution_count": 38,
   "metadata": {},
   "outputs": [
    {
     "data": {
      "text/plain": [
       "{'A': 22,\n",
       " 'C': 21,\n",
       " 'D': 29,\n",
       " 'E': 26,\n",
       " 'F': 17,\n",
       " 'G': 35,\n",
       " 'H': 12,\n",
       " 'I': 27,\n",
       " 'K': 29,\n",
       " 'L': 53,\n",
       " 'M': 14,\n",
       " 'N': 23,\n",
       " 'P': 23,\n",
       " 'Q': 23,\n",
       " 'R': 26,\n",
       " 'S': 36,\n",
       " 'T': 30,\n",
       " 'V': 40,\n",
       " 'W': 9,\n",
       " 'Y': 14}"
      ]
     },
     "execution_count": 38,
     "metadata": {},
     "output_type": "execute_result"
    }
   ],
   "source": [
    "from Bio.SeqUtils.ProtParam import ProteinAnalysis\n",
    "from Bio.SeqUtils import ProtParamData\n",
    "my_seq= \"MVDGVMILPVLIMIALPSPSMEDEKPKVNPKLYMCVCEGLSCGNEDHCEGQQCFSSLSINDGFHVYQKGCFQVYEQGKMTCKTPPSPGQAVECCQGDWCNRNITAQLPTKGKSFPGTQNFHLEVGLIILSVVFAVCLLACLLGVALRKFKRRNQERLNPRDVEYGTIEGLITTNVGDSTLADLLDHSCTSGSGSGLPFLVQRTVARQITLLECVGKGRYGEVWRGSWQGENVAVKIFSSRDEKSWFRETELYNTVMLRHENILGFIASDMTSRHSSTQLWLITHYHEMGSLYDYLQLTTLDTVSCLRIVLSIASGLAHLHIEIFGTQGKPAIAHRDLKSKNILVKKNGQCCIADLGLAVMHSQSTNQLDVGNNPRVGTKRYMAPEVLDETIQVDCFDSYKRVDIWAFGLVLWEVARRMVSNGIVEDYKPPFYDVVPNDPSFEDMRKVVCVDQQRPNIPNRWFSDPTLTSLAKLMKECWYQNPSARLTALRIKKTLTKIDNSLDKLKTDC\"\n",
    "\n",
    "analysed_seq = ProteinAnalysis(my_seq)\n",
    "\n",
    "\n",
    "analysed_seq.count_amino_acids()"
   ]
  },
  {
   "cell_type": "code",
   "execution_count": null,
   "metadata": {},
   "outputs": [],
   "source": []
  },
  {
   "cell_type": "code",
   "execution_count": null,
   "metadata": {},
   "outputs": [],
   "source": []
  }
 ],
 "metadata": {
  "kernelspec": {
   "display_name": "Python 2",
   "language": "python",
   "name": "python2"
  },
  "language_info": {
   "codemirror_mode": {
    "name": "ipython",
    "version": 2
   },
   "file_extension": ".py",
   "mimetype": "text/x-python",
   "name": "python",
   "nbconvert_exporter": "python",
   "pygments_lexer": "ipython2",
   "version": "2.7.5"
  }
 },
 "nbformat": 4,
 "nbformat_minor": 1
}
