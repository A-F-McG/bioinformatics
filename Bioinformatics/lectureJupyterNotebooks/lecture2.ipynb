{
 "cells": [
  {
   "cell_type": "code",
   "execution_count": 6,
   "metadata": {},
   "outputs": [],
   "source": [
    "# import Biopython functions\n",
    "from Bio import SeqIO"
   ]
  },
  {
   "cell_type": "markdown",
   "metadata": {},
   "source": [
    "# Part 1"
   ]
  },
  {
   "cell_type": "markdown",
   "metadata": {},
   "source": [
    "## Loading and viewing sequences\n",
    "In this example both a transcript (Thy1 in mouse), and the coding sequence, are read."
   ]
  },
  {
   "cell_type": "code",
   "execution_count": null,
   "metadata": {},
   "outputs": [],
   "source": []
  },
  {
   "cell_type": "code",
   "execution_count": 9,
   "metadata": {},
   "outputs": [],
   "source": [
    "# load the whole transcipt\n",
    "transcript = next(SeqIO.parse(\"pcomplete.fasta\", \"fasta\"))\n",
    "\n",
    "# load the coding sequence\n",
    "coding = next(SeqIO.parse(\"pcoding.txt\", \"fasta\"))"
   ]
  },
  {
   "cell_type": "markdown",
   "metadata": {},
   "source": [
    "Let's look at the full transcript first:"
   ]
  },
  {
   "cell_type": "code",
   "execution_count": 10,
   "metadata": {},
   "outputs": [
    {
     "name": "stdout",
     "output_type": "stream",
     "text": [
      "XM_016949840.1 PREDICTED: Pan troglodytes activin A receptor type 1 (ACVR1), transcript variant X2, mRNA\n"
     ]
    }
   ],
   "source": [
    "print(transcript.description)"
   ]
  },
  {
   "cell_type": "markdown",
   "metadata": {},
   "source": [
    "Now the conding sequence - the record below shows the location of the coding sequence in the transcript:"
   ]
  },
  {
   "cell_type": "code",
   "execution_count": 11,
   "metadata": {},
   "outputs": [
    {
     "name": "stdout",
     "output_type": "stream",
     "text": [
      "lcl|XM_016949840.1_cds_XP_016805329.1_1 [gene=ACVR1] [db_xref=GeneID:470565] [protein=activin receptor type-1] [protein_id=XP_016805329.1] [location=262..1791] [gbkey=CDS]\n"
     ]
    }
   ],
   "source": [
    "print(coding.description)"
   ]
  },
  {
   "cell_type": "markdown",
   "metadata": {},
   "source": [
    "Let's obtain and store the position of the coding part. This can be done in many ways, here I use regular expressions, a useful tool for parsing.\n",
    "\n",
    "Some info is here:\n",
    "*https://docs.python.org/2/howto/regex.html*"
   ]
  },
  {
   "cell_type": "code",
   "execution_count": 12,
   "metadata": {},
   "outputs": [
    {
     "name": "stdout",
     "output_type": "stream",
     "text": [
      "('coding sequence is in transript at: ', 262, 1791)\n"
     ]
    }
   ],
   "source": [
    "import re\n",
    "t = re.search('\\[location=(.+?)\\]',coding.description)\n",
    "t = re.findall('\\d+',t.group(0))\n",
    "coding_start, coding_stop = int(t[0]), int(t[1])\n",
    "print('coding sequence is in transript at: ',coding_start, coding_stop)"
   ]
  },
  {
   "cell_type": "markdown",
   "metadata": {},
   "source": [
    "Now let's compare the two sequences:"
   ]
  },
  {
   "cell_type": "code",
   "execution_count": 13,
   "metadata": {},
   "outputs": [
    {
     "name": "stdout",
     "output_type": "stream",
     "text": [
      "CGCCGCGCCGACCTGCAGCGCCCGGCTGCCTCGCACTCCGCCTCCCCCGGCTCAGCCCCCGGCCGCGGCGGGACCCGAGCCTGGAGCATTGGTAAGCGTCACACTGCCAGAGTGAGAGCTGCTGGAGAACTCATAATCCCAGGAACGCCTCTTCTACTCCCTGAGTACCCCAGTGACCAGAGTGAGAGAAGCTCTGAACGAGGGCACGCGGCTTGAAGGACTGTGGGCAGATGTGACCAGGAGCCTGCGTTAAGTTGTACAATGGTAGATGGAGTGATGATTCTTCCTGTGCTTATCATGATTGCTCTCCCCTCCCCTAGTATGGAAGATGAGAAGCCCAAGGTCAGCCCCAAACTCTACATGTGTGTGTGTGAAGGTCTCTCCTGCGGTAATGAGGACCACTGTGAAGGCCAGCAGTGCTTTTCCTCACTGAGCATCAACGATGGCTTCCACGTCTACCAGAAAGGCTGCTTCCAGGTTTATGAGCAGGGAAAGATGACCTGTAAGACCCCGCCGTCCCCTGGCCAAGCCGTGGAGTGCTGCCAAGGGGACTGGTGTAACAGGAACATCACTGCCCAGCTGCCCACTAAAGGAAAATCCTTCCCTGGAACACAGAATTTCCACTTGGAGGTTGGCCTCATTATTCTCTCTGTAGTGTTTGCAGTATGTCTTTTAGCCTGCCTGCTGGGAGTTGCTCTCCGAAAATTTAAAAGGCGCAACCAAGAACGCCTCAATCCCCGAGACGTGGAGTATGGCACTATCGAAGGGCTCATCACCACCAATGTTGGAGACAGCACTTTAGCAGATTTATTGGATCATTCGTGTACATCAGGAAGTGGCTCTGGTCTTCCTTTTCTGGTACAAAGAACGGTGGCTCGCCAGATTACACTGTTGGAGTGCGTCGGGAAAGGCAGGTATGGTGAGGTGTGGAGGGGCAGCTGGCAAGGGGAGAATGTTGCCGTGAAGATCTTCTCCTCCCGTGATGAGAAGTCATGGTTCAGGGAAACGGAATTGTACAACACTGTGATGCTGAGGCATGAAAATATCTTAGGTTTCATTGCTTCAGACATGACATCAAGACACTCCAGTACCCAGCTGTGGTTAATTACACATTATCATGAAATGGGATCATTGTACGACTATCTTCAGCTTACTACTCTGGATACAGTTAGCTGCCTTCGAATAGTGCTGTCCATAGCTAGTGGTCTTGCACATTTGCACATAGAGATATTTGGGACCCAAGGGAAACCAGCCATTGCCCATCGAGATTTAAAGAGCAAAAATATTCTGGTTAAGAAGAATGGACAGTGTTGCATAGCAGATTTGGGCCTGGCAGTCATGCATTCCCAGAGCACCAATCAGCTTGATGTGGGGAACAATCCCCGTGTGGGCACCAAGCGCTACATGGCCCCCGAAGTTCTAGATGAAACCATCCAGGTGGATTGTTTCGATTCTTATAAAAGGGTCGATATTTGGGCCTTTGGACTTGTTTTGTGGGAAGTGGCCAGGCGGATGGTGAGCAATGGTATAGTGGAGGATTACAAGCCACCGTTCTACGATGTGGTTCCCAATGACCCAAGTTTTGAAGATATGAGGAAGGTAGTCTGTGTGGATCAACAAAGGCCAAACATACCCAACAGATGGTTCTCAGACCCGACATTAACCTCTCTGGCCAAGCTAATGAAAGAATGCTGGTATCAAAATCCATCCGCAAGACTCACAGCACTGCGTATCAAAAAGACTTTGACCAAAATTGATAATTCCCTCGACAAATTGAAAACTGACTGTTGACATTTTCATAGTGTCAAGAAGGAAGATTTGACGTTGTTGTCATTGTCCAGCTGGGACCTAATGCTGGCCTGACTGGTTGTCAGAACGGAATCCATCTGTCTCCCTCCCCAAATGGCTGCTTTGACAAGGCAGACGTCGTACCCAGCCATGTGTTGGGGAGACATCAAAACCACCCTAACCTCGCTCGATGACTGTGAACTGGGCATTTCACGAACTGTTCACACTGCAGAGACTAATGTTGGACAGACACTGTTGCAAAGGTAGGGACTGGAGGAACACAGAGAAATCCTAAAAGAGATCTGGGCATTAAGTCAGTGGCTTTGCATAGCTTTCACAAGTCTCCTAGACACTCCCCACGGGAAACTCAAGGAGGTGGTGAATTTTTAATCAGCAATATTGCCTGTGCTTCTCTTCTTTATTGCACTAGGAATTCTTTGCATTCCTTACTTGCACTGTTACTCTTAATTTTAAAGACCCAATTTGCCAAAATGTTGGCTGCGTACTCCACTGGTCTGTCTTTGGATAATAGGAATTCAATTTGGCAAAACAAAATGTAATGTCAGACTTTGCTGCATTTTACACATGTGCTGATGTTTACAATGATGCCGAACATTAGGAATTGTTTATACACAACTTTGCAAATTATTTATTACTTGTGCACTTGGTAGTTTTTACAAAACTGCTTCGTGCATATGTTAAAGCTTATTTTTATGTGGTCTTATGATTTTATTACAGAAATGTTTTTAACACTATACTCTAAAATGGACATTTTCTTTTATTATCAGTTAAATTCACATTTTAAGTGCTTCACATTTGTATGTGTGTAGACTGTAACTTTTTTTCAGTTCATATGCAGAACGTATTTAGCCATTACCCACGTGACACCACCGAATATATTACTGATTTAGAAGCAAAGATTTCAGTAGAATTTTAGTCCTGAACGCTACGGGGAAAATGCATTTTCTTCAGAATTATCCATTACGTGCATTTAAACTCTGCCAGAAAAAAATAACTATTTTGTTTTAATCTACTTTTTGTATTTAGTAGTTATTTGTATAAATTAAATAAACTGTTTTCAAGTCAAA\n"
     ]
    }
   ],
   "source": [
    "print(transcript.seq)"
   ]
  },
  {
   "cell_type": "code",
   "execution_count": 14,
   "metadata": {},
   "outputs": [
    {
     "name": "stdout",
     "output_type": "stream",
     "text": [
      "ATGGTAGATGGAGTGATGATTCTTCCTGTGCTTATCATGATTGCTCTCCCCTCCCCTAGTATGGAAGATGAGAAGCCCAAGGTCAGCCCCAAACTCTACATGTGTGTGTGTGAAGGTCTCTCCTGCGGTAATGAGGACCACTGTGAAGGCCAGCAGTGCTTTTCCTCACTGAGCATCAACGATGGCTTCCACGTCTACCAGAAAGGCTGCTTCCAGGTTTATGAGCAGGGAAAGATGACCTGTAAGACCCCGCCGTCCCCTGGCCAAGCCGTGGAGTGCTGCCAAGGGGACTGGTGTAACAGGAACATCACTGCCCAGCTGCCCACTAAAGGAAAATCCTTCCCTGGAACACAGAATTTCCACTTGGAGGTTGGCCTCATTATTCTCTCTGTAGTGTTTGCAGTATGTCTTTTAGCCTGCCTGCTGGGAGTTGCTCTCCGAAAATTTAAAAGGCGCAACCAAGAACGCCTCAATCCCCGAGACGTGGAGTATGGCACTATCGAAGGGCTCATCACCACCAATGTTGGAGACAGCACTTTAGCAGATTTATTGGATCATTCGTGTACATCAGGAAGTGGCTCTGGTCTTCCTTTTCTGGTACAAAGAACGGTGGCTCGCCAGATTACACTGTTGGAGTGCGTCGGGAAAGGCAGGTATGGTGAGGTGTGGAGGGGCAGCTGGCAAGGGGAGAATGTTGCCGTGAAGATCTTCTCCTCCCGTGATGAGAAGTCATGGTTCAGGGAAACGGAATTGTACAACACTGTGATGCTGAGGCATGAAAATATCTTAGGTTTCATTGCTTCAGACATGACATCAAGACACTCCAGTACCCAGCTGTGGTTAATTACACATTATCATGAAATGGGATCATTGTACGACTATCTTCAGCTTACTACTCTGGATACAGTTAGCTGCCTTCGAATAGTGCTGTCCATAGCTAGTGGTCTTGCACATTTGCACATAGAGATATTTGGGACCCAAGGGAAACCAGCCATTGCCCATCGAGATTTAAAGAGCAAAAATATTCTGGTTAAGAAGAATGGACAGTGTTGCATAGCAGATTTGGGCCTGGCAGTCATGCATTCCCAGAGCACCAATCAGCTTGATGTGGGGAACAATCCCCGTGTGGGCACCAAGCGCTACATGGCCCCCGAAGTTCTAGATGAAACCATCCAGGTGGATTGTTTCGATTCTTATAAAAGGGTCGATATTTGGGCCTTTGGACTTGTTTTGTGGGAAGTGGCCAGGCGGATGGTGAGCAATGGTATAGTGGAGGATTACAAGCCACCGTTCTACGATGTGGTTCCCAATGACCCAAGTTTTGAAGATATGAGGAAGGTAGTCTGTGTGGATCAACAAAGGCCAAACATACCCAACAGATGGTTCTCAGACCCGACATTAACCTCTCTGGCCAAGCTAATGAAAGAATGCTGGTATCAAAATCCATCCGCAAGACTCACAGCACTGCGTATCAAAAAGACTTTGACCAAAATTGATAATTCCCTCGACAAATTGAAAACTGACTGTTGA\n"
     ]
    }
   ],
   "source": [
    "print(coding.seq)"
   ]
  },
  {
   "cell_type": "code",
   "execution_count": 15,
   "metadata": {},
   "outputs": [
    {
     "name": "stdout",
     "output_type": "stream",
     "text": [
      "('Lenth of gene:', 2876)\n",
      "('Lenth of coding sequence:', 1530)\n"
     ]
    }
   ],
   "source": [
    "print(\"Lenth of gene:\",len(transcript.seq))\n",
    "print(\"Lenth of coding sequence:\",len(coding.seq))"
   ]
  },
  {
   "cell_type": "markdown",
   "metadata": {},
   "source": [
    "Now find the start of the coding sequence in the gene, using the numbers we got above.\n",
    "\n",
    "Python slicing offers quick access, note that python starts counting at zero:\n"
   ]
  },
  {
   "cell_type": "code",
   "execution_count": 16,
   "metadata": {},
   "outputs": [
    {
     "data": {
      "text/plain": [
       "Seq('ATGGTAGATGGAGTGATGATTCTTCCTGTGCTTATCATGATTGCTCTCCCCTCC...TGA', SingleLetterAlphabet())"
      ]
     },
     "execution_count": 16,
     "metadata": {},
     "output_type": "execute_result"
    }
   ],
   "source": [
    "transcript.seq[coding_start-1:coding_stop]"
   ]
  },
  {
   "cell_type": "markdown",
   "metadata": {},
   "source": [
    "## Simple sequence operations "
   ]
  },
  {
   "cell_type": "markdown",
   "metadata": {},
   "source": [
    "The sequence object (Seq) has a number of useful methods. Below is an example."
   ]
  },
  {
   "cell_type": "code",
   "execution_count": 17,
   "metadata": {},
   "outputs": [
    {
     "name": "stdout",
     "output_type": "stream",
     "text": [
      "Help on Seq in module Bio.Seq object:\n",
      "\n",
      "class Seq(__builtin__.object)\n",
      " |  Read-only sequence object (essentially a string with an alphabet).\n",
      " |  \n",
      " |  Like normal python strings, our basic sequence object is immutable.\n",
      " |  This prevents you from doing my_seq[5] = \"A\" for example, but does allow\n",
      " |  Seq objects to be used as dictionary keys.\n",
      " |  \n",
      " |  The Seq object provides a number of string like methods (such as count,\n",
      " |  find, split and strip), which are alphabet aware where appropriate.\n",
      " |  \n",
      " |  In addition to the string like sequence, the Seq object has an alphabet\n",
      " |  property. This is an instance of an Alphabet class from Bio.Alphabet,\n",
      " |  for example generic DNA, or IUPAC DNA. This describes the type of molecule\n",
      " |  (e.g. RNA, DNA, protein) and may also indicate the expected symbols\n",
      " |  (letters).\n",
      " |  \n",
      " |  The Seq object also provides some biological methods, such as complement,\n",
      " |  reverse_complement, transcribe, back_transcribe and translate (which are\n",
      " |  not applicable to sequences with a protein alphabet).\n",
      " |  \n",
      " |  Methods defined here:\n",
      " |  \n",
      " |  __add__(self, other)\n",
      " |      Add another sequence or string to this sequence.\n",
      " |      \n",
      " |      If adding a string to a Seq, the alphabet is preserved:\n",
      " |      \n",
      " |      >>> from Bio.Seq import Seq\n",
      " |      >>> from Bio.Alphabet import generic_protein\n",
      " |      >>> Seq(\"MELKI\", generic_protein) + \"LV\"\n",
      " |      Seq('MELKILV', ProteinAlphabet())\n",
      " |      \n",
      " |      When adding two Seq (like) objects, the alphabets are important.\n",
      " |      Consider this example:\n",
      " |      \n",
      " |      >>> from Bio.Seq import Seq\n",
      " |      >>> from Bio.Alphabet.IUPAC import unambiguous_dna, ambiguous_dna\n",
      " |      >>> unamb_dna_seq = Seq(\"ACGT\", unambiguous_dna)\n",
      " |      >>> ambig_dna_seq = Seq(\"ACRGT\", ambiguous_dna)\n",
      " |      >>> unamb_dna_seq\n",
      " |      Seq('ACGT', IUPACUnambiguousDNA())\n",
      " |      >>> ambig_dna_seq\n",
      " |      Seq('ACRGT', IUPACAmbiguousDNA())\n",
      " |      \n",
      " |      If we add the ambiguous and unambiguous IUPAC DNA alphabets, we get\n",
      " |      the more general ambiguous IUPAC DNA alphabet:\n",
      " |      \n",
      " |      >>> unamb_dna_seq + ambig_dna_seq\n",
      " |      Seq('ACGTACRGT', IUPACAmbiguousDNA())\n",
      " |      \n",
      " |      However, if the default generic alphabet is included, the result is\n",
      " |      a generic alphabet:\n",
      " |      \n",
      " |      >>> Seq(\"\") + ambig_dna_seq\n",
      " |      Seq('ACRGT', Alphabet())\n",
      " |      \n",
      " |      You can't add RNA and DNA sequences:\n",
      " |      \n",
      " |      >>> from Bio.Alphabet import generic_dna, generic_rna\n",
      " |      >>> Seq(\"ACGT\", generic_dna) + Seq(\"ACGU\", generic_rna)\n",
      " |      Traceback (most recent call last):\n",
      " |         ...\n",
      " |      TypeError: Incompatible alphabets DNAAlphabet() and RNAAlphabet()\n",
      " |      \n",
      " |      You can't add nucleotide and protein sequences:\n",
      " |      \n",
      " |      >>> from Bio.Alphabet import generic_dna, generic_protein\n",
      " |      >>> Seq(\"ACGT\", generic_dna) + Seq(\"MELKI\", generic_protein)\n",
      " |      Traceback (most recent call last):\n",
      " |         ...\n",
      " |      TypeError: Incompatible alphabets DNAAlphabet() and ProteinAlphabet()\n",
      " |  \n",
      " |  __contains__(self, char)\n",
      " |      Implement the 'in' keyword, like a python string.\n",
      " |      \n",
      " |      e.g.\n",
      " |      \n",
      " |      >>> from Bio.Seq import Seq\n",
      " |      >>> from Bio.Alphabet import generic_dna, generic_rna, generic_protein\n",
      " |      >>> my_dna = Seq(\"ATATGAAATTTGAAAA\", generic_dna)\n",
      " |      >>> \"AAA\" in my_dna\n",
      " |      True\n",
      " |      >>> Seq(\"AAA\") in my_dna\n",
      " |      True\n",
      " |      >>> Seq(\"AAA\", generic_dna) in my_dna\n",
      " |      True\n",
      " |      \n",
      " |      Like other Seq methods, this will raise a type error if another Seq\n",
      " |      (or Seq like) object with an incompatible alphabet is used:\n",
      " |      \n",
      " |      >>> Seq(\"AAA\", generic_rna) in my_dna\n",
      " |      Traceback (most recent call last):\n",
      " |         ...\n",
      " |      TypeError: Incompatible alphabets DNAAlphabet() and RNAAlphabet()\n",
      " |      >>> Seq(\"AAA\", generic_protein) in my_dna\n",
      " |      Traceback (most recent call last):\n",
      " |         ...\n",
      " |      TypeError: Incompatible alphabets DNAAlphabet() and ProteinAlphabet()\n",
      " |  \n",
      " |  __eq__(self, other)\n",
      " |      Compare the sequence to another sequence or a string (README).\n",
      " |      \n",
      " |      Historically comparing Seq objects has done Python object comparison.\n",
      " |      After considerable discussion (keeping in mind constraints of the\n",
      " |      Python language, hashes and dictionary support), Biopython now uses\n",
      " |      simple string comparison (with a warning about the change).\n",
      " |      \n",
      " |      Note that incompatible alphabets (e.g. DNA to RNA) will trigger a\n",
      " |      warning.\n",
      " |      \n",
      " |      During this transition period, please just do explicit comparisons:\n",
      " |      \n",
      " |      >>> from Bio.Seq import Seq\n",
      " |      >>> from Bio.Alphabet import generic_dna\n",
      " |      >>> seq1 = Seq(\"ACGT\")\n",
      " |      >>> seq2 = Seq(\"ACGT\")\n",
      " |      >>> id(seq1) == id(seq2)\n",
      " |      False\n",
      " |      >>> str(seq1) == str(seq2)\n",
      " |      True\n",
      " |      \n",
      " |      The new behaviour is to use string-like equality:\n",
      " |      \n",
      " |      >>> from Bio.Seq import Seq\n",
      " |      >>> from Bio.Alphabet import generic_dna\n",
      " |      >>> seq1 == seq2\n",
      " |      True\n",
      " |      >>> seq1 == \"ACGT\"\n",
      " |      True\n",
      " |      >>> seq1 == Seq(\"ACGT\", generic_dna)\n",
      " |      True\n",
      " |  \n",
      " |  __getitem__(self, index)\n",
      " |      Return a subsequence of single letter, use my_seq[index].\n",
      " |  \n",
      " |  __hash__(self)\n",
      " |      Hash for comparison.\n",
      " |      \n",
      " |      See the __cmp__ documentation - this has changed from past\n",
      " |      versions of Biopython!\n",
      " |  \n",
      " |  __init__(self, data, alphabet=Alphabet())\n",
      " |      Create a Seq object.\n",
      " |      \n",
      " |      Arguments:\n",
      " |       - seq - Sequence, required (string)\n",
      " |       - alphabet - Optional argument, an Alphabet object from\n",
      " |         Bio.Alphabet\n",
      " |      \n",
      " |      You will typically use Bio.SeqIO to read in sequences from files as\n",
      " |      SeqRecord objects, whose sequence will be exposed as a Seq object via\n",
      " |      the seq property.\n",
      " |      \n",
      " |      However, will often want to create your own Seq objects directly:\n",
      " |      \n",
      " |      >>> from Bio.Seq import Seq\n",
      " |      >>> from Bio.Alphabet import IUPAC\n",
      " |      >>> my_seq = Seq(\"MKQHKAMIVALIVICITAVVAALVTRKDLCEVHIRTGQTEVAVF\",\n",
      " |      ...              IUPAC.protein)\n",
      " |      >>> my_seq\n",
      " |      Seq('MKQHKAMIVALIVICITAVVAALVTRKDLCEVHIRTGQTEVAVF', IUPACProtein())\n",
      " |      >>> print(my_seq)\n",
      " |      MKQHKAMIVALIVICITAVVAALVTRKDLCEVHIRTGQTEVAVF\n",
      " |      >>> my_seq.alphabet\n",
      " |      IUPACProtein()\n",
      " |  \n",
      " |  __le__(self, other)\n",
      " |      Implement the less-than or equal operand.\n",
      " |  \n",
      " |  __len__(self)\n",
      " |      Return the length of the sequence, use len(my_seq).\n",
      " |  \n",
      " |  __lt__(self, other)\n",
      " |      Implement the less-than operand.\n",
      " |  \n",
      " |  __ne__(self, other)\n",
      " |      Implement the not-equal operand.\n",
      " |  \n",
      " |  __radd__(self, other)\n",
      " |      Add a sequence on the left.\n",
      " |      \n",
      " |      If adding a string to a Seq, the alphabet is preserved:\n",
      " |      \n",
      " |      >>> from Bio.Seq import Seq\n",
      " |      >>> from Bio.Alphabet import generic_protein\n",
      " |      >>> \"LV\" + Seq(\"MELKI\", generic_protein)\n",
      " |      Seq('LVMELKI', ProteinAlphabet())\n",
      " |      \n",
      " |      Adding two Seq (like) objects is handled via the __add__ method.\n",
      " |  \n",
      " |  __repr__(self)\n",
      " |      Return (truncated) representation of the sequence for debugging.\n",
      " |  \n",
      " |  __str__(self)\n",
      " |      Return the full sequence as a python string, use str(my_seq).\n",
      " |      \n",
      " |      Note that Biopython 1.44 and earlier would give a truncated\n",
      " |      version of repr(my_seq) for str(my_seq).  If you are writing code\n",
      " |      which need to be backwards compatible with old Biopython, you\n",
      " |      should continue to use my_seq.tostring() rather than str(my_seq).\n",
      " |  \n",
      " |  back_transcribe(self)\n",
      " |      Return the DNA sequence from an RNA sequence by creating a new Seq object.\n",
      " |      \n",
      " |      >>> from Bio.Seq import Seq\n",
      " |      >>> from Bio.Alphabet import IUPAC\n",
      " |      >>> messenger_rna = Seq(\"AUGGCCAUUGUAAUGGGCCGCUGAAAGGGUGCCCGAUAG\",\n",
      " |      ...                     IUPAC.unambiguous_rna)\n",
      " |      >>> messenger_rna\n",
      " |      Seq('AUGGCCAUUGUAAUGGGCCGCUGAAAGGGUGCCCGAUAG', IUPACUnambiguousRNA())\n",
      " |      >>> messenger_rna.back_transcribe()\n",
      " |      Seq('ATGGCCATTGTAATGGGCCGCTGAAAGGGTGCCCGATAG', IUPACUnambiguousDNA())\n",
      " |      \n",
      " |      Trying to back-transcribe a protein or DNA sequence raises an\n",
      " |      exception:\n",
      " |      \n",
      " |      >>> my_protein = Seq(\"MAIVMGR\", IUPAC.protein)\n",
      " |      >>> my_protein.back_transcribe()\n",
      " |      Traceback (most recent call last):\n",
      " |         ...\n",
      " |      ValueError: Proteins cannot be back transcribed!\n",
      " |  \n",
      " |  complement(self)\n",
      " |      Return the complement sequence by creating a new Seq object.\n",
      " |      \n",
      " |      >>> from Bio.Seq import Seq\n",
      " |      >>> from Bio.Alphabet import IUPAC\n",
      " |      >>> my_dna = Seq(\"CCCCCGATAG\", IUPAC.unambiguous_dna)\n",
      " |      >>> my_dna\n",
      " |      Seq('CCCCCGATAG', IUPACUnambiguousDNA())\n",
      " |      >>> my_dna.complement()\n",
      " |      Seq('GGGGGCTATC', IUPACUnambiguousDNA())\n",
      " |      \n",
      " |      You can of course used mixed case sequences,\n",
      " |      \n",
      " |      >>> from Bio.Seq import Seq\n",
      " |      >>> from Bio.Alphabet import generic_dna\n",
      " |      >>> my_dna = Seq(\"CCCCCgatA-GD\", generic_dna)\n",
      " |      >>> my_dna\n",
      " |      Seq('CCCCCgatA-GD', DNAAlphabet())\n",
      " |      >>> my_dna.complement()\n",
      " |      Seq('GGGGGctaT-CH', DNAAlphabet())\n",
      " |      \n",
      " |      Note in the above example, ambiguous character D denotes\n",
      " |      G, A or T so its complement is H (for C, T or A).\n",
      " |      \n",
      " |      Trying to complement a protein sequence raises an exception.\n",
      " |      \n",
      " |      >>> my_protein = Seq(\"MAIVMGR\", IUPAC.protein)\n",
      " |      >>> my_protein.complement()\n",
      " |      Traceback (most recent call last):\n",
      " |         ...\n",
      " |      ValueError: Proteins do not have complements!\n",
      " |  \n",
      " |  count(self, sub, start=0, end=9223372036854775807)\n",
      " |      Return a non-overlapping count, like that of a python string.\n",
      " |      \n",
      " |      This behaves like the python string method of the same name,\n",
      " |      which does a non-overlapping count!\n",
      " |      \n",
      " |      For an overlapping search use the newer count_overlap() method.\n",
      " |      \n",
      " |      Returns an integer, the number of occurrences of substring\n",
      " |      argument sub in the (sub)sequence given by [start:end].\n",
      " |      Optional arguments start and end are interpreted as in slice\n",
      " |      notation.\n",
      " |      \n",
      " |      Arguments:\n",
      " |       - sub - a string or another Seq object to look for\n",
      " |       - start - optional integer, slice start\n",
      " |       - end - optional integer, slice end\n",
      " |      \n",
      " |      e.g.\n",
      " |      \n",
      " |      >>> from Bio.Seq import Seq\n",
      " |      >>> my_seq = Seq(\"AAAATGA\")\n",
      " |      >>> print(my_seq.count(\"A\"))\n",
      " |      5\n",
      " |      >>> print(my_seq.count(\"ATG\"))\n",
      " |      1\n",
      " |      >>> print(my_seq.count(Seq(\"AT\")))\n",
      " |      1\n",
      " |      >>> print(my_seq.count(\"AT\", 2, -1))\n",
      " |      1\n",
      " |      \n",
      " |      HOWEVER, please note because python strings and Seq objects (and\n",
      " |      MutableSeq objects) do a non-overlapping search, this may not give\n",
      " |      the answer you expect:\n",
      " |      \n",
      " |      >>> \"AAAA\".count(\"AA\")\n",
      " |      2\n",
      " |      >>> print(Seq(\"AAAA\").count(\"AA\"))\n",
      " |      2\n",
      " |      \n",
      " |      An overlapping search, as implemented in .count_overlap(),\n",
      " |      would give the answer as three!\n",
      " |  \n",
      " |  count_overlap(self, sub, start=0, end=9223372036854775807)\n",
      " |      Return an overlapping count.\n",
      " |      \n",
      " |      For a non-overlapping search use the count() method.\n",
      " |      \n",
      " |      Returns an integer, the number of occurrences of substring\n",
      " |      argument sub in the (sub)sequence given by [start:end].\n",
      " |      Optional arguments start and end are interpreted as in slice\n",
      " |      notation.\n",
      " |      \n",
      " |      Arguments:\n",
      " |       - sub - a string or another Seq object to look for\n",
      " |       - start - optional integer, slice start\n",
      " |       - end - optional integer, slice end\n",
      " |      \n",
      " |      e.g.\n",
      " |      \n",
      " |      >>> from Bio.Seq import Seq\n",
      " |      >>> print(Seq(\"AAAA\").count_overlap(\"AA\"))\n",
      " |      3\n",
      " |      >>> print(Seq(\"ATATATATA\").count_overlap(\"ATA\"))\n",
      " |      4\n",
      " |      >>> print(Seq(\"ATATATATA\").count_overlap(\"ATA\", 3, -1))\n",
      " |      1\n",
      " |      \n",
      " |      Where substrings do not overlap, should behave the same as\n",
      " |      the count() method:\n",
      " |      \n",
      " |      >>> from Bio.Seq import Seq\n",
      " |      >>> my_seq = Seq(\"AAAATGA\")\n",
      " |      >>> print(my_seq.count_overlap(\"A\"))\n",
      " |      5\n",
      " |      >>> my_seq.count_overlap(\"A\") == my_seq.count(\"A\")\n",
      " |      True\n",
      " |      >>> print(my_seq.count_overlap(\"ATG\"))\n",
      " |      1\n",
      " |      >>> my_seq.count_overlap(\"ATG\") == my_seq.count(\"ATG\")\n",
      " |      True\n",
      " |      >>> print(my_seq.count_overlap(Seq(\"AT\")))\n",
      " |      1\n",
      " |      >>> my_seq.count_overlap(Seq(\"AT\")) == my_seq.count(Seq(\"AT\"))\n",
      " |      True\n",
      " |      >>> print(my_seq.count_overlap(\"AT\", 2, -1))\n",
      " |      1\n",
      " |      >>> my_seq.count_overlap(\"AT\", 2, -1) == my_seq.count(\"AT\", 2, -1)\n",
      " |      True\n",
      " |      \n",
      " |      HOWEVER, do not use this method for such cases because the\n",
      " |      count() method is much for efficient.\n",
      " |  \n",
      " |  endswith(self, suffix, start=0, end=9223372036854775807)\n",
      " |      Return True if the Seq ends with the given suffix, False otherwise.\n",
      " |      \n",
      " |      This behaves like the python string method of the same name.\n",
      " |      \n",
      " |      Return True if the sequence ends with the specified suffix\n",
      " |      (a string or another Seq object), False otherwise.\n",
      " |      With optional start, test sequence beginning at that position.\n",
      " |      With optional end, stop comparing sequence at that position.\n",
      " |      suffix can also be a tuple of strings to try.  e.g.\n",
      " |      \n",
      " |      >>> from Bio.Seq import Seq\n",
      " |      >>> my_rna = Seq(\"GUCAUGGCCAUUGUAAUGGGCCGCUGAAAGGGUGCCCGAUAGUUG\")\n",
      " |      >>> my_rna.endswith(\"UUG\")\n",
      " |      True\n",
      " |      >>> my_rna.endswith(\"AUG\")\n",
      " |      False\n",
      " |      >>> my_rna.endswith(\"AUG\", 0, 18)\n",
      " |      True\n",
      " |      >>> my_rna.endswith((\"UCC\", \"UCA\", \"UUG\"))\n",
      " |      True\n",
      " |  \n",
      " |  find(self, sub, start=0, end=9223372036854775807)\n",
      " |      Find method, like that of a python string.\n",
      " |      \n",
      " |      This behaves like the python string method of the same name.\n",
      " |      \n",
      " |      Returns an integer, the index of the first occurrence of substring\n",
      " |      argument sub in the (sub)sequence given by [start:end].\n",
      " |      \n",
      " |      Arguments:\n",
      " |       - sub - a string or another Seq object to look for\n",
      " |       - start - optional integer, slice start\n",
      " |       - end - optional integer, slice end\n",
      " |      \n",
      " |      Returns -1 if the subsequence is NOT found.\n",
      " |      \n",
      " |      e.g. Locating the first typical start codon, AUG, in an RNA sequence:\n",
      " |      \n",
      " |      >>> from Bio.Seq import Seq\n",
      " |      >>> my_rna = Seq(\"GUCAUGGCCAUUGUAAUGGGCCGCUGAAAGGGUGCCCGAUAGUUG\")\n",
      " |      >>> my_rna.find(\"AUG\")\n",
      " |      3\n",
      " |  \n",
      " |  lower(self)\n",
      " |      Return a lower case copy of the sequence.\n",
      " |      \n",
      " |      This will adjust the alphabet if required. Note that the IUPAC\n",
      " |      alphabets are upper case only, and thus a generic alphabet must be\n",
      " |      substituted.\n",
      " |      \n",
      " |      >>> from Bio.Alphabet import Gapped, generic_dna\n",
      " |      >>> from Bio.Alphabet import IUPAC\n",
      " |      >>> from Bio.Seq import Seq\n",
      " |      >>> my_seq = Seq(\"CGGTACGCTTATGTCACGTAG*AAAAAA\",\n",
      " |      ...          Gapped(IUPAC.unambiguous_dna, \"*\"))\n",
      " |      >>> my_seq\n",
      " |      Seq('CGGTACGCTTATGTCACGTAG*AAAAAA', Gapped(IUPACUnambiguousDNA(), '*'))\n",
      " |      >>> my_seq.lower()\n",
      " |      Seq('cggtacgcttatgtcacgtag*aaaaaa', Gapped(DNAAlphabet(), '*'))\n",
      " |      \n",
      " |      See also the upper method.\n",
      " |  \n",
      " |  lstrip(self, chars=None)\n",
      " |      Return a new Seq object with leading (left) end stripped.\n",
      " |      \n",
      " |      This behaves like the python string method of the same name.\n",
      " |      \n",
      " |      Optional argument chars defines which characters to remove.  If\n",
      " |      omitted or None (default) then as for the python string method,\n",
      " |      this defaults to removing any white space.\n",
      " |      \n",
      " |      e.g. print(my_seq.lstrip(\"-\"))\n",
      " |      \n",
      " |      See also the strip and rstrip methods.\n",
      " |  \n",
      " |  reverse_complement(self)\n",
      " |      Return the reverse complement sequence by creating a new Seq object.\n",
      " |      \n",
      " |      >>> from Bio.Seq import Seq\n",
      " |      >>> from Bio.Alphabet import IUPAC\n",
      " |      >>> my_dna = Seq(\"CCCCCGATAGNR\", IUPAC.ambiguous_dna)\n",
      " |      >>> my_dna\n",
      " |      Seq('CCCCCGATAGNR', IUPACAmbiguousDNA())\n",
      " |      >>> my_dna.reverse_complement()\n",
      " |      Seq('YNCTATCGGGGG', IUPACAmbiguousDNA())\n",
      " |      \n",
      " |      Note in the above example, since R = G or A, its complement\n",
      " |      is Y (which denotes C or T).\n",
      " |      \n",
      " |      You can of course used mixed case sequences,\n",
      " |      \n",
      " |      >>> from Bio.Seq import Seq\n",
      " |      >>> from Bio.Alphabet import generic_dna\n",
      " |      >>> my_dna = Seq(\"CCCCCgatA-G\", generic_dna)\n",
      " |      >>> my_dna\n",
      " |      Seq('CCCCCgatA-G', DNAAlphabet())\n",
      " |      >>> my_dna.reverse_complement()\n",
      " |      Seq('C-TatcGGGGG', DNAAlphabet())\n",
      " |      \n",
      " |      Trying to complement a protein sequence raises an exception:\n",
      " |      \n",
      " |      >>> my_protein = Seq(\"MAIVMGR\", IUPAC.protein)\n",
      " |      >>> my_protein.reverse_complement()\n",
      " |      Traceback (most recent call last):\n",
      " |         ...\n",
      " |      ValueError: Proteins do not have complements!\n",
      " |  \n",
      " |  rfind(self, sub, start=0, end=9223372036854775807)\n",
      " |      Find from right method, like that of a python string.\n",
      " |      \n",
      " |      This behaves like the python string method of the same name.\n",
      " |      \n",
      " |      Returns an integer, the index of the last (right most) occurrence of\n",
      " |      substring argument sub in the (sub)sequence given by [start:end].\n",
      " |      \n",
      " |      Arguments:\n",
      " |       - sub - a string or another Seq object to look for\n",
      " |       - start - optional integer, slice start\n",
      " |       - end - optional integer, slice end\n",
      " |      \n",
      " |      Returns -1 if the subsequence is NOT found.\n",
      " |      \n",
      " |      e.g. Locating the last typical start codon, AUG, in an RNA sequence:\n",
      " |      \n",
      " |      >>> from Bio.Seq import Seq\n",
      " |      >>> my_rna = Seq(\"GUCAUGGCCAUUGUAAUGGGCCGCUGAAAGGGUGCCCGAUAGUUG\")\n",
      " |      >>> my_rna.rfind(\"AUG\")\n",
      " |      15\n",
      " |  \n",
      " |  rsplit(self, sep=None, maxsplit=-1)\n",
      " |      Do a right split method, like that of a python string.\n",
      " |      \n",
      " |      This behaves like the python string method of the same name.\n",
      " |      \n",
      " |      Return a list of the 'words' in the string (as Seq objects),\n",
      " |      using sep as the delimiter string.  If maxsplit is given, at\n",
      " |      most maxsplit splits are done COUNTING FROM THE RIGHT.\n",
      " |      If maxsplit is omitted, all splits are made.\n",
      " |      \n",
      " |      Following the python string method, sep will by default be any\n",
      " |      white space (tabs, spaces, newlines) but this is unlikely to\n",
      " |      apply to biological sequences.\n",
      " |      \n",
      " |      e.g. print(my_seq.rsplit(\"*\",1))\n",
      " |      \n",
      " |      See also the split method.\n",
      " |  \n",
      " |  rstrip(self, chars=None)\n",
      " |      Return a new Seq object with trailing (right) end stripped.\n",
      " |      \n",
      " |      This behaves like the python string method of the same name.\n",
      " |      \n",
      " |      Optional argument chars defines which characters to remove.  If\n",
      " |      omitted or None (default) then as for the python string method,\n",
      " |      this defaults to removing any white space.\n",
      " |      \n",
      " |      e.g. Removing a nucleotide sequence's polyadenylation (poly-A tail):\n",
      " |      \n",
      " |      >>> from Bio.Alphabet import IUPAC\n",
      " |      >>> from Bio.Seq import Seq\n",
      " |      >>> my_seq = Seq(\"CGGTACGCTTATGTCACGTAGAAAAAA\", IUPAC.unambiguous_dna)\n",
      " |      >>> my_seq\n",
      " |      Seq('CGGTACGCTTATGTCACGTAGAAAAAA', IUPACUnambiguousDNA())\n",
      " |      >>> my_seq.rstrip(\"A\")\n",
      " |      Seq('CGGTACGCTTATGTCACGTAG', IUPACUnambiguousDNA())\n",
      " |      \n",
      " |      See also the strip and lstrip methods.\n",
      " |  \n",
      " |  split(self, sep=None, maxsplit=-1)\n",
      " |      Split method, like that of a python string.\n",
      " |      \n",
      " |      This behaves like the python string method of the same name.\n",
      " |      \n",
      " |      Return a list of the 'words' in the string (as Seq objects),\n",
      " |      using sep as the delimiter string.  If maxsplit is given, at\n",
      " |      most maxsplit splits are done.  If maxsplit is omitted, all\n",
      " |      splits are made.\n",
      " |      \n",
      " |      Following the python string method, sep will by default be any\n",
      " |      white space (tabs, spaces, newlines) but this is unlikely to\n",
      " |      apply to biological sequences.\n",
      " |      \n",
      " |      e.g.\n",
      " |      \n",
      " |      >>> from Bio.Seq import Seq\n",
      " |      >>> my_rna = Seq(\"GUCAUGGCCAUUGUAAUGGGCCGCUGAAAGGGUGCCCGAUAGUUG\")\n",
      " |      >>> my_aa = my_rna.translate()\n",
      " |      >>> my_aa\n",
      " |      Seq('VMAIVMGR*KGAR*L', HasStopCodon(ExtendedIUPACProtein(), '*'))\n",
      " |      >>> for pep in my_aa.split(\"*\"):\n",
      " |      ...     pep\n",
      " |      Seq('VMAIVMGR', HasStopCodon(ExtendedIUPACProtein(), '*'))\n",
      " |      Seq('KGAR', HasStopCodon(ExtendedIUPACProtein(), '*'))\n",
      " |      Seq('L', HasStopCodon(ExtendedIUPACProtein(), '*'))\n",
      " |      >>> for pep in my_aa.split(\"*\", 1):\n",
      " |      ...     pep\n",
      " |      Seq('VMAIVMGR', HasStopCodon(ExtendedIUPACProtein(), '*'))\n",
      " |      Seq('KGAR*L', HasStopCodon(ExtendedIUPACProtein(), '*'))\n",
      " |      \n",
      " |      See also the rsplit method:\n",
      " |      \n",
      " |      >>> for pep in my_aa.rsplit(\"*\", 1):\n",
      " |      ...     pep\n",
      " |      Seq('VMAIVMGR*KGAR', HasStopCodon(ExtendedIUPACProtein(), '*'))\n",
      " |      Seq('L', HasStopCodon(ExtendedIUPACProtein(), '*'))\n",
      " |  \n",
      " |  startswith(self, prefix, start=0, end=9223372036854775807)\n",
      " |      Return True if the Seq starts with the given prefix, False otherwise.\n",
      " |      \n",
      " |      This behaves like the python string method of the same name.\n",
      " |      \n",
      " |      Return True if the sequence starts with the specified prefix\n",
      " |      (a string or another Seq object), False otherwise.\n",
      " |      With optional start, test sequence beginning at that position.\n",
      " |      With optional end, stop comparing sequence at that position.\n",
      " |      prefix can also be a tuple of strings to try.  e.g.\n",
      " |      \n",
      " |      >>> from Bio.Seq import Seq\n",
      " |      >>> my_rna = Seq(\"GUCAUGGCCAUUGUAAUGGGCCGCUGAAAGGGUGCCCGAUAGUUG\")\n",
      " |      >>> my_rna.startswith(\"GUC\")\n",
      " |      True\n",
      " |      >>> my_rna.startswith(\"AUG\")\n",
      " |      False\n",
      " |      >>> my_rna.startswith(\"AUG\", 3)\n",
      " |      True\n",
      " |      >>> my_rna.startswith((\"UCC\", \"UCA\", \"UCG\"), 1)\n",
      " |      True\n",
      " |  \n",
      " |  strip(self, chars=None)\n",
      " |      Return a new Seq object with leading and trailing ends stripped.\n",
      " |      \n",
      " |      This behaves like the python string method of the same name.\n",
      " |      \n",
      " |      Optional argument chars defines which characters to remove.  If\n",
      " |      omitted or None (default) then as for the python string method,\n",
      " |      this defaults to removing any white space.\n",
      " |      \n",
      " |      e.g. print(my_seq.strip(\"-\"))\n",
      " |      \n",
      " |      See also the lstrip and rstrip methods.\n",
      " |  \n",
      " |  tomutable(self)\n",
      " |      Return the full sequence as a MutableSeq object.\n",
      " |      \n",
      " |      >>> from Bio.Seq import Seq\n",
      " |      >>> from Bio.Alphabet import IUPAC\n",
      " |      >>> my_seq = Seq(\"MKQHKAMIVALIVICITAVVAAL\",\n",
      " |      ...              IUPAC.protein)\n",
      " |      >>> my_seq\n",
      " |      Seq('MKQHKAMIVALIVICITAVVAAL', IUPACProtein())\n",
      " |      >>> my_seq.tomutable()\n",
      " |      MutableSeq('MKQHKAMIVALIVICITAVVAAL', IUPACProtein())\n",
      " |      \n",
      " |      Note that the alphabet is preserved.\n",
      " |  \n",
      " |  tostring(self)\n",
      " |      Return the full sequence as a python string (DEPRECATED).\n",
      " |      \n",
      " |      You are now encouraged to use str(my_seq) instead of\n",
      " |      my_seq.tostring().\n",
      " |  \n",
      " |  transcribe(self)\n",
      " |      Return the RNA sequence from a DNA sequence by creating a new Seq object.\n",
      " |      \n",
      " |      >>> from Bio.Seq import Seq\n",
      " |      >>> from Bio.Alphabet import IUPAC\n",
      " |      >>> coding_dna = Seq(\"ATGGCCATTGTAATGGGCCGCTGAAAGGGTGCCCGATAG\",\n",
      " |      ...                  IUPAC.unambiguous_dna)\n",
      " |      >>> coding_dna\n",
      " |      Seq('ATGGCCATTGTAATGGGCCGCTGAAAGGGTGCCCGATAG', IUPACUnambiguousDNA())\n",
      " |      >>> coding_dna.transcribe()\n",
      " |      Seq('AUGGCCAUUGUAAUGGGCCGCUGAAAGGGUGCCCGAUAG', IUPACUnambiguousRNA())\n",
      " |      \n",
      " |      Trying to transcribe a protein or RNA sequence raises an exception:\n",
      " |      \n",
      " |      >>> my_protein = Seq(\"MAIVMGR\", IUPAC.protein)\n",
      " |      >>> my_protein.transcribe()\n",
      " |      Traceback (most recent call last):\n",
      " |         ...\n",
      " |      ValueError: Proteins cannot be transcribed!\n",
      " |  \n",
      " |  translate(self, table='Standard', stop_symbol='*', to_stop=False, cds=False, gap=None)\n",
      " |      Turn a nucleotide sequence into a protein sequence by creating a new Seq object.\n",
      " |      \n",
      " |      This method will translate DNA or RNA sequences, and those with a\n",
      " |      nucleotide or generic alphabet.  Trying to translate a protein\n",
      " |      sequence raises an exception.\n",
      " |      \n",
      " |      Arguments:\n",
      " |       - table - Which codon table to use?  This can be either a name\n",
      " |         (string), an NCBI identifier (integer), or a CodonTable\n",
      " |         object (useful for non-standard genetic codes).  This\n",
      " |         defaults to the \"Standard\" table.\n",
      " |       - stop_symbol - Single character string, what to use for\n",
      " |         terminators.  This defaults to the asterisk, \"*\".\n",
      " |       - to_stop - Boolean, defaults to False meaning do a full\n",
      " |         translation continuing on past any stop codons (translated as the\n",
      " |         specified stop_symbol).  If True, translation is terminated at\n",
      " |         the first in frame stop codon (and the stop_symbol is not\n",
      " |         appended to the returned protein sequence).\n",
      " |       - cds - Boolean, indicates this is a complete CDS.  If True,\n",
      " |         this checks the sequence starts with a valid alternative start\n",
      " |         codon (which will be translated as methionine, M), that the\n",
      " |         sequence length is a multiple of three, and that there is a\n",
      " |         single in frame stop codon at the end (this will be excluded\n",
      " |         from the protein sequence, regardless of the to_stop option).\n",
      " |         If these tests fail, an exception is raised.\n",
      " |       - gap - Single character string to denote symbol used for gaps.\n",
      " |         It will try to guess the gap character from the alphabet.\n",
      " |      \n",
      " |      e.g. Using the standard table:\n",
      " |      \n",
      " |      >>> coding_dna = Seq(\"GTGGCCATTGTAATGGGCCGCTGAAAGGGTGCCCGATAG\")\n",
      " |      >>> coding_dna.translate()\n",
      " |      Seq('VAIVMGR*KGAR*', HasStopCodon(ExtendedIUPACProtein(), '*'))\n",
      " |      >>> coding_dna.translate(stop_symbol=\"@\")\n",
      " |      Seq('VAIVMGR@KGAR@', HasStopCodon(ExtendedIUPACProtein(), '@'))\n",
      " |      >>> coding_dna.translate(to_stop=True)\n",
      " |      Seq('VAIVMGR', ExtendedIUPACProtein())\n",
      " |      \n",
      " |      Now using NCBI table 2, where TGA is not a stop codon:\n",
      " |      \n",
      " |      >>> coding_dna.translate(table=2)\n",
      " |      Seq('VAIVMGRWKGAR*', HasStopCodon(ExtendedIUPACProtein(), '*'))\n",
      " |      >>> coding_dna.translate(table=2, to_stop=True)\n",
      " |      Seq('VAIVMGRWKGAR', ExtendedIUPACProtein())\n",
      " |      \n",
      " |      In fact, GTG is an alternative start codon under NCBI table 2, meaning\n",
      " |      this sequence could be a complete CDS:\n",
      " |      \n",
      " |      >>> coding_dna.translate(table=2, cds=True)\n",
      " |      Seq('MAIVMGRWKGAR', ExtendedIUPACProtein())\n",
      " |      \n",
      " |      It isn't a valid CDS under NCBI table 1, due to both the start codon\n",
      " |      and also the in frame stop codons:\n",
      " |      \n",
      " |      >>> coding_dna.translate(table=1, cds=True)\n",
      " |      Traceback (most recent call last):\n",
      " |          ...\n",
      " |      TranslationError: First codon 'GTG' is not a start codon\n",
      " |      \n",
      " |      If the sequence has no in-frame stop codon, then the to_stop argument\n",
      " |      has no effect:\n",
      " |      \n",
      " |      >>> coding_dna2 = Seq(\"TTGGCCATTGTAATGGGCCGC\")\n",
      " |      >>> coding_dna2.translate()\n",
      " |      Seq('LAIVMGR', ExtendedIUPACProtein())\n",
      " |      >>> coding_dna2.translate(to_stop=True)\n",
      " |      Seq('LAIVMGR', ExtendedIUPACProtein())\n",
      " |      \n",
      " |      When translating gapped sequences, the gap character is inferred from\n",
      " |      the alphabet:\n",
      " |      \n",
      " |      >>> from Bio.Alphabet import Gapped\n",
      " |      >>> coding_dna3 = Seq(\"GTG---GCCATT\", Gapped(IUPAC.unambiguous_dna))\n",
      " |      >>> coding_dna3.translate()\n",
      " |      Seq('V-AI', Gapped(ExtendedIUPACProtein(), '-'))\n",
      " |      \n",
      " |      It is possible to pass the gap character when the alphabet is missing:\n",
      " |      \n",
      " |      >>> coding_dna4 = Seq(\"GTG---GCCATT\")\n",
      " |      >>> coding_dna4.translate(gap='-')\n",
      " |      Seq('V-AI', Gapped(ExtendedIUPACProtein(), '-'))\n",
      " |      \n",
      " |      NOTE - Ambiguous codons like \"TAN\" or \"NNN\" could be an amino acid\n",
      " |      or a stop codon.  These are translated as \"X\".  Any invalid codon\n",
      " |      (e.g. \"TA?\" or \"T-A\") will throw a TranslationError.\n",
      " |      \n",
      " |      NOTE - This does NOT behave like the python string's translate\n",
      " |      method.  For that use str(my_seq).translate(...) instead.\n",
      " |  \n",
      " |  ungap(self, gap=None)\n",
      " |      Return a copy of the sequence without the gap character(s).\n",
      " |      \n",
      " |      The gap character can be specified in two ways - either as an explicit\n",
      " |      argument, or via the sequence's alphabet. For example:\n",
      " |      \n",
      " |      >>> from Bio.Seq import Seq\n",
      " |      >>> from Bio.Alphabet import generic_dna\n",
      " |      >>> my_dna = Seq(\"-ATA--TGAAAT-TTGAAAA\", generic_dna)\n",
      " |      >>> my_dna\n",
      " |      Seq('-ATA--TGAAAT-TTGAAAA', DNAAlphabet())\n",
      " |      >>> my_dna.ungap(\"-\")\n",
      " |      Seq('ATATGAAATTTGAAAA', DNAAlphabet())\n",
      " |      \n",
      " |      If the gap character is not given as an argument, it will be taken from\n",
      " |      the sequence's alphabet (if defined). Notice that the returned\n",
      " |      sequence's alphabet is adjusted since it no longer requires a gapped\n",
      " |      alphabet:\n",
      " |      \n",
      " |      >>> from Bio.Seq import Seq\n",
      " |      >>> from Bio.Alphabet import IUPAC, Gapped, HasStopCodon\n",
      " |      >>> my_pro = Seq(\"MVVLE=AD*\", HasStopCodon(Gapped(IUPAC.protein, \"=\")))\n",
      " |      >>> my_pro\n",
      " |      Seq('MVVLE=AD*', HasStopCodon(Gapped(IUPACProtein(), '='), '*'))\n",
      " |      >>> my_pro.ungap()\n",
      " |      Seq('MVVLEAD*', HasStopCodon(IUPACProtein(), '*'))\n",
      " |      \n",
      " |      Or, with a simpler gapped DNA example:\n",
      " |      \n",
      " |      >>> from Bio.Seq import Seq\n",
      " |      >>> from Bio.Alphabet import IUPAC, Gapped\n",
      " |      >>> my_seq = Seq(\"CGGGTAG=AAAAAA\", Gapped(IUPAC.unambiguous_dna, \"=\"))\n",
      " |      >>> my_seq\n",
      " |      Seq('CGGGTAG=AAAAAA', Gapped(IUPACUnambiguousDNA(), '='))\n",
      " |      >>> my_seq.ungap()\n",
      " |      Seq('CGGGTAGAAAAAA', IUPACUnambiguousDNA())\n",
      " |      \n",
      " |      As long as it is consistent with the alphabet, although it is\n",
      " |      redundant, you can still supply the gap character as an argument to\n",
      " |      this method:\n",
      " |      \n",
      " |      >>> my_seq\n",
      " |      Seq('CGGGTAG=AAAAAA', Gapped(IUPACUnambiguousDNA(), '='))\n",
      " |      >>> my_seq.ungap(\"=\")\n",
      " |      Seq('CGGGTAGAAAAAA', IUPACUnambiguousDNA())\n",
      " |      \n",
      " |      However, if the gap character given as the argument disagrees with that\n",
      " |      declared in the alphabet, an exception is raised:\n",
      " |      \n",
      " |      >>> my_seq\n",
      " |      Seq('CGGGTAG=AAAAAA', Gapped(IUPACUnambiguousDNA(), '='))\n",
      " |      >>> my_seq.ungap(\"-\")\n",
      " |      Traceback (most recent call last):\n",
      " |         ...\n",
      " |      ValueError: Gap '-' does not match '=' from alphabet\n",
      " |      \n",
      " |      Finally, if a gap character is not supplied, and the alphabet does not\n",
      " |      define one, an exception is raised:\n",
      " |      \n",
      " |      >>> from Bio.Seq import Seq\n",
      " |      >>> from Bio.Alphabet import generic_dna\n",
      " |      >>> my_dna = Seq(\"ATA--TGAAAT-TTGAAAA\", generic_dna)\n",
      " |      >>> my_dna\n",
      " |      Seq('ATA--TGAAAT-TTGAAAA', DNAAlphabet())\n",
      " |      >>> my_dna.ungap()\n",
      " |      Traceback (most recent call last):\n",
      " |         ...\n",
      " |      ValueError: Gap character not given and not defined in alphabet\n",
      " |  \n",
      " |  upper(self)\n",
      " |      Return an upper case copy of the sequence.\n",
      " |      \n",
      " |      >>> from Bio.Alphabet import HasStopCodon, generic_protein\n",
      " |      >>> from Bio.Seq import Seq\n",
      " |      >>> my_seq = Seq(\"VHLTPeeK*\", HasStopCodon(generic_protein))\n",
      " |      >>> my_seq\n",
      " |      Seq('VHLTPeeK*', HasStopCodon(ProteinAlphabet(), '*'))\n",
      " |      >>> my_seq.lower()\n",
      " |      Seq('vhltpeek*', HasStopCodon(ProteinAlphabet(), '*'))\n",
      " |      >>> my_seq.upper()\n",
      " |      Seq('VHLTPEEK*', HasStopCodon(ProteinAlphabet(), '*'))\n",
      " |      \n",
      " |      This will adjust the alphabet if required. See also the lower method.\n",
      " |  \n",
      " |  ----------------------------------------------------------------------\n",
      " |  Data descriptors defined here:\n",
      " |  \n",
      " |  __dict__\n",
      " |      dictionary for instance variables (if defined)\n",
      " |  \n",
      " |  __weakref__\n",
      " |      list of weak references to the object (if defined)\n",
      "\n"
     ]
    }
   ],
   "source": [
    "help(transcript.seq)"
   ]
  },
  {
   "cell_type": "code",
   "execution_count": 18,
   "metadata": {},
   "outputs": [
    {
     "data": {
      "text/plain": [
       "773"
      ]
     },
     "execution_count": 18,
     "metadata": {},
     "output_type": "execute_result"
    }
   ],
   "source": [
    "transcript.seq.count('A')"
   ]
  },
  {
   "cell_type": "markdown",
   "metadata": {},
   "source": [
    "## Two ways to compute GC content\n",
    "\n",
    "<img src=\"GC.png\">\n",
    "\n",
    "G-C pairs have a stronger bonds due to an addition H-bond, so the relative G-C content is related to the stability of the DNA molecule. We can easily measure this for our sequence:\n"
   ]
  },
  {
   "cell_type": "code",
   "execution_count": 19,
   "metadata": {},
   "outputs": [
    {
     "name": "stdout",
     "output_type": "stream",
     "text": [
      "45.3755215577\n",
      "45.3755215577\n"
     ]
    }
   ],
   "source": [
    "print(100 * float(transcript.seq.count(\"G\") + transcript.seq.count(\"C\")) / len(transcript.seq))\n",
    "\n",
    "from Bio.SeqUtils import GC\n",
    "print(GC(transcript.seq))"
   ]
  },
  {
   "cell_type": "markdown",
   "metadata": {},
   "source": [
    "## find first occurence of a substring"
   ]
  },
  {
   "cell_type": "code",
   "execution_count": 20,
   "metadata": {},
   "outputs": [
    {
     "name": "stdout",
     "output_type": "stream",
     "text": [
      "230\n",
      "0\n"
     ]
    }
   ],
   "source": [
    "print(transcript.seq.find('ATG'))\n",
    "print(coding.seq.find('ATG'))"
   ]
  },
  {
   "cell_type": "markdown",
   "metadata": {},
   "source": [
    "# Part 2"
   ]
  },
  {
   "cell_type": "markdown",
   "metadata": {},
   "source": [
    "## obtain the complemenatry sequence\n",
    "compare with sequence above to see whether it makes sense to you"
   ]
  },
  {
   "cell_type": "code",
   "execution_count": 21,
   "metadata": {},
   "outputs": [
    {
     "name": "stdout",
     "output_type": "stream",
     "text": [
      "GCGGCGCGGCTGGACGTCGCGGGCCGACGGAGCGTGAGGCGGAGGGGGCCGAGTCGGGGGCCGGCGCCGCCCTGGGCTCGGACCTCGTAACCATTCGCAGTGTGACGGTCTCACTCTCGACGACCTCTTGAGTATTAGGGTCCTTGCGGAGAAGATGAGGGACTCATGGGGTCACTGGTCTCACTCTCTTCGAGACTTGCTCCCGTGCGCCGAACTTCCTGACACCCGTCTACACTGGTCCTCGGACGCAATTCAACATGTTACCATCTACCTCACTACTAAGAAGGACACGAATAGTACTAACGAGAGGGGAGGGGATCATACCTTCTACTCTTCGGGTTCCAGTCGGGGTTTGAGATGTACACACACACACTTCCAGAGAGGACGCCATTACTCCTGGTGACACTTCCGGTCGTCACGAAAAGGAGTGACTCGTAGTTGCTACCGAAGGTGCAGATGGTCTTTCCGACGAAGGTCCAAATACTCGTCCCTTTCTACTGGACATTCTGGGGCGGCAGGGGACCGGTTCGGCACCTCACGACGGTTCCCCTGACCACATTGTCCTTGTAGTGACGGGTCGACGGGTGATTTCCTTTTAGGAAGGGACCTTGTGTCTTAAAGGTGAACCTCCAACCGGAGTAATAAGAGAGACATCACAAACGTCATACAGAAAATCGGACGGACGACCCTCAACGAGAGGCTTTTAAATTTTCCGCGTTGGTTCTTGCGGAGTTAGGGGCTCTGCACCTCATACCGTGATAGCTTCCCGAGTAGTGGTGGTTACAACCTCTGTCGTGAAATCGTCTAAATAACCTAGTAAGCACATGTAGTCCTTCACCGAGACCAGAAGGAAAAGACCATGTTTCTTGCCACCGAGCGGTCTAATGTGACAACCTCACGCAGCCCTTTCCGTCCATACCACTCCACACCTCCCCGTCGACCGTTCCCCTCTTACAACGGCACTTCTAGAAGAGGAGGGCACTACTCTTCAGTACCAAGTCCCTTTGCCTTAACATGTTGTGACACTACGACTCCGTACTTTTATAGAATCCAAAGTAACGAAGTCTGTACTGTAGTTCTGTGAGGTCATGGGTCGACACCAATTAATGTGTAATAGTACTTTACCCTAGTAACATGCTGATAGAAGTCGAATGATGAGACCTATGTCAATCGACGGAAGCTTATCACGACAGGTATCGATCACCAGAACGTGTAAACGTGTATCTCTATAAACCCTGGGTTCCCTTTGGTCGGTAACGGGTAGCTCTAAATTTCTCGTTTTTATAAGACCAATTCTTCTTACCTGTCACAACGTATCGTCTAAACCCGGACCGTCAGTACGTAAGGGTCTCGTGGTTAGTCGAACTACACCCCTTGTTAGGGGCACACCCGTGGTTCGCGATGTACCGGGGGCTTCAAGATCTACTTTGGTAGGTCCACCTAACAAAGCTAAGAATATTTTCCCAGCTATAAACCCGGAAACCTGAACAAAACACCCTTCACCGGTCCGCCTACCACTCGTTACCATATCACCTCCTAATGTTCGGTGGCAAGATGCTACACCAAGGGTTACTGGGTTCAAAACTTCTATACTCCTTCCATCAGACACACCTAGTTGTTTCCGGTTTGTATGGGTTGTCTACCAAGAGTCTGGGCTGTAATTGGAGAGACCGGTTCGATTACTTTCTTACGACCATAGTTTTAGGTAGGCGTTCTGAGTGTCGTGACGCATAGTTTTTCTGAAACTGGTTTTAACTATTAAGGGAGCTGTTTAACTTTTGACTGACAACTGTAAAAGTATCACAGTTCTTCCTTCTAAACTGCAACAACAGTAACAGGTCGACCCTGGATTACGACCGGACTGACCAACAGTCTTGCCTTAGGTAGACAGAGGGAGGGGTTTACCGACGAAACTGTTCCGTCTGCAGCATGGGTCGGTACACAACCCCTCTGTAGTTTTGGTGGGATTGGAGCGAGCTACTGACACTTGACCCGTAAAGTGCTTGACAAGTGTGACGTCTCTGATTACAACCTGTCTGTGACAACGTTTCCATCCCTGACCTCCTTGTGTCTCTTTAGGATTTTCTCTAGACCCGTAATTCAGTCACCGAAACGTATCGAAAGTGTTCAGAGGATCTGTGAGGGGTGCCCTTTGAGTTCCTCCACCACTTAAAAATTAGTCGTTATAACGGACACGAAGAGAAGAAATAACGTGATCCTTAAGAAACGTAAGGAATGAACGTGACAATGAGAATTAAAATTTCTGGGTTAAACGGTTTTACAACCGACGCATGAGGTGACCAGACAGAAACCTATTATCCTTAAGTTAAACCGTTTTGTTTTACATTACAGTCTGAAACGACGTAAAATGTGTACACGACTACAAATGTTACTACGGCTTGTAATCCTTAACAAATATGTGTTGAAACGTTTAATAAATAATGAACACGTGAACCATCAAAAATGTTTTGACGAAGCACGTATACAATTTCGAATAAAAATACACCAGAATACTAAAATAATGTCTTTACAAAAATTGTGATATGAGATTTTACCTGTAAAAGAAAATAATAGTCAATTTAAGTGTAAAATTCACGAAGTGTAAACATACACACATCTGACATTGAAAAAAAGTCAAGTATACGTCTTGCATAAATCGGTAATGGGTGCACTGTGGTGGCTTATATAATGACTAAATCTTCGTTTCTAAAGTCATCTTAAAATCAGGACTTGCGATGCCCCTTTTACGTAAAAGAAGTCTTAATAGGTAATGCACGTAAATTTGAGACGGTCTTTTTTTATTGATAAAACAAAATTAGATGAAAAACATAAATCATCAATAAACATATTTAATTTATTTGACAAAAGTTCAGTTT\n"
     ]
    }
   ],
   "source": [
    "print(transcript.seq.complement())"
   ]
  },
  {
   "cell_type": "markdown",
   "metadata": {},
   "source": [
    "## Transcription and translation"
   ]
  },
  {
   "cell_type": "code",
   "execution_count": 22,
   "metadata": {},
   "outputs": [
    {
     "name": "stdout",
     "output_type": "stream",
     "text": [
      "AUGGUAGAUGGAGUGAUGAUUCUUCCUGUGCUUAUCAUGAUUGCUCUCCCCUCCCCUAGUAUGGAAGAUGAGAAGCCCAAGGUCAGCCCCAAACUCUACAUGUGUGUGUGUGAAGGUCUCUCCUGCGGUAAUGAGGACCACUGUGAAGGCCAGCAGUGCUUUUCCUCACUGAGCAUCAACGAUGGCUUCCACGUCUACCAGAAAGGCUGCUUCCAGGUUUAUGAGCAGGGAAAGAUGACCUGUAAGACCCCGCCGUCCCCUGGCCAAGCCGUGGAGUGCUGCCAAGGGGACUGGUGUAACAGGAACAUCACUGCCCAGCUGCCCACUAAAGGAAAAUCCUUCCCUGGAACACAGAAUUUCCACUUGGAGGUUGGCCUCAUUAUUCUCUCUGUAGUGUUUGCAGUAUGUCUUUUAGCCUGCCUGCUGGGAGUUGCUCUCCGAAAAUUUAAAAGGCGCAACCAAGAACGCCUCAAUCCCCGAGACGUGGAGUAUGGCACUAUCGAAGGGCUCAUCACCACCAAUGUUGGAGACAGCACUUUAGCAGAUUUAUUGGAUCAUUCGUGUACAUCAGGAAGUGGCUCUGGUCUUCCUUUUCUGGUACAAAGAACGGUGGCUCGCCAGAUUACACUGUUGGAGUGCGUCGGGAAAGGCAGGUAUGGUGAGGUGUGGAGGGGCAGCUGGCAAGGGGAGAAUGUUGCCGUGAAGAUCUUCUCCUCCCGUGAUGAGAAGUCAUGGUUCAGGGAAACGGAAUUGUACAACACUGUGAUGCUGAGGCAUGAAAAUAUCUUAGGUUUCAUUGCUUCAGACAUGACAUCAAGACACUCCAGUACCCAGCUGUGGUUAAUUACACAUUAUCAUGAAAUGGGAUCAUUGUACGACUAUCUUCAGCUUACUACUCUGGAUACAGUUAGCUGCCUUCGAAUAGUGCUGUCCAUAGCUAGUGGUCUUGCACAUUUGCACAUAGAGAUAUUUGGGACCCAAGGGAAACCAGCCAUUGCCCAUCGAGAUUUAAAGAGCAAAAAUAUUCUGGUUAAGAAGAAUGGACAGUGUUGCAUAGCAGAUUUGGGCCUGGCAGUCAUGCAUUCCCAGAGCACCAAUCAGCUUGAUGUGGGGAACAAUCCCCGUGUGGGCACCAAGCGCUACAUGGCCCCCGAAGUUCUAGAUGAAACCAUCCAGGUGGAUUGUUUCGAUUCUUAUAAAAGGGUCGAUAUUUGGGCCUUUGGACUUGUUUUGUGGGAAGUGGCCAGGCGGAUGGUGAGCAAUGGUAUAGUGGAGGAUUACAAGCCACCGUUCUACGAUGUGGUUCCCAAUGACCCAAGUUUUGAAGAUAUGAGGAAGGUAGUCUGUGUGGAUCAACAAAGGCCAAACAUACCCAACAGAUGGUUCUCAGACCCGACAUUAACCUCUCUGGCCAAGCUAAUGAAAGAAUGCUGGUAUCAAAAUCCAUCCGCAAGACUCACAGCACUGCGUAUCAAAAAGACUUUGACCAAAAUUGAUAAUUCCCUCGACAAAUUGAAAACUGACUGUUGA\n"
     ]
    }
   ],
   "source": [
    "print(coding.seq.transcribe())"
   ]
  },
  {
   "cell_type": "code",
   "execution_count": 23,
   "metadata": {},
   "outputs": [
    {
     "name": "stdout",
     "output_type": "stream",
     "text": [
      "MVDGVMILPVLIMIALPSPSMEDEKPKVSPKLYMCVCEGLSCGNEDHCEGQQCFSSLSINDGFHVYQKGCFQVYEQGKMTCKTPPSPGQAVECCQGDWCNRNITAQLPTKGKSFPGTQNFHLEVGLIILSVVFAVCLLACLLGVALRKFKRRNQERLNPRDVEYGTIEGLITTNVGDSTLADLLDHSCTSGSGSGLPFLVQRTVARQITLLECVGKGRYGEVWRGSWQGENVAVKIFSSRDEKSWFRETELYNTVMLRHENILGFIASDMTSRHSSTQLWLITHYHEMGSLYDYLQLTTLDTVSCLRIVLSIASGLAHLHIEIFGTQGKPAIAHRDLKSKNILVKKNGQCCIADLGLAVMHSQSTNQLDVGNNPRVGTKRYMAPEVLDETIQVDCFDSYKRVDIWAFGLVLWEVARRMVSNGIVEDYKPPFYDVVPNDPSFEDMRKVVCVDQQRPNIPNRWFSDPTLTSLAKLMKECWYQNPSARLTALRIKKTLTKIDNSLDKLKTDC*\n"
     ]
    }
   ],
   "source": [
    "print(coding.seq.translate())"
   ]
  },
  {
   "cell_type": "markdown",
   "metadata": {},
   "source": [
    "We could also tranlate the whole RNA:"
   ]
  },
  {
   "cell_type": "code",
   "execution_count": 24,
   "metadata": {},
   "outputs": [
    {
     "name": "stdout",
     "output_type": "stream",
     "text": [
      "RRADLQRPAASHSASPGSAPGRGGTRAWSIGKRHTARVRAAGELIIPGTPLLLPEYPSDQSERSSERGHAA*RTVGRCDQEPALSCTMVDGVMILPVLIMIALPSPSMEDEKPKVSPKLYMCVCEGLSCGNEDHCEGQQCFSSLSINDGFHVYQKGCFQVYEQGKMTCKTPPSPGQAVECCQGDWCNRNITAQLPTKGKSFPGTQNFHLEVGLIILSVVFAVCLLACLLGVALRKFKRRNQERLNPRDVEYGTIEGLITTNVGDSTLADLLDHSCTSGSGSGLPFLVQRTVARQITLLECVGKGRYGEVWRGSWQGENVAVKIFSSRDEKSWFRETELYNTVMLRHENILGFIASDMTSRHSSTQLWLITHYHEMGSLYDYLQLTTLDTVSCLRIVLSIASGLAHLHIEIFGTQGKPAIAHRDLKSKNILVKKNGQCCIADLGLAVMHSQSTNQLDVGNNPRVGTKRYMAPEVLDETIQVDCFDSYKRVDIWAFGLVLWEVARRMVSNGIVEDYKPPFYDVVPNDPSFEDMRKVVCVDQQRPNIPNRWFSDPTLTSLAKLMKECWYQNPSARLTALRIKKTLTKIDNSLDKLKTDC*HFHSVKKEDLTLLSLSSWDLMLA*LVVRTESICLPPQMAALTRQTSYPAMCWGDIKTTLTSLDDCELGISRTVHTAETNVGQTLLQR*GLEEHREILKEIWALSQWLCIAFTSLLDTPHGKLKEVVNF*SAILPVLLFFIALGILCIPYLHCYS*F*RPNLPKCWLRTPLVCLWIIGIQFGKTKCNVRLCCILHMC*CLQ*CRTLGIVYTQLCKLFITCALGSFYKTASCIC*SLFLCGLMILLQKCF*HYTLKWTFSFIIS*IHILSASHLYVCRL*LFFSSYAERI*PLPT*HHRIYY*FRSKDFSRILVLNATGKMHFLQNYPLRAFKLCQKKITILF*STFCI**LFV*IK*TVFKS\n"
     ]
    },
    {
     "name": "stderr",
     "output_type": "stream",
     "text": [
      "/usr/lib64/python2.7/site-packages/Bio/Seq.py:2309: BiopythonWarning: Partial codon, len(sequence) not a multiple of three. Explicitly trim the sequence or add trailing N before translation. This may become an error in future.\n",
      "  BiopythonWarning)\n"
     ]
    }
   ],
   "source": [
    "print(transcript.seq.translate())"
   ]
  },
  {
   "cell_type": "markdown",
   "metadata": {},
   "source": [
    "This sequence is different from the translated coding sequence, and likely does not even contain a subset of the sequence above. And, we get a warning. Why?\n",
    "\n",
    "Try starting at the beginning of the coding sequence (as above):"
   ]
  },
  {
   "cell_type": "code",
   "execution_count": 25,
   "metadata": {},
   "outputs": [],
   "source": [
    "# write your code here:\n"
   ]
  },
  {
   "cell_type": "markdown",
   "metadata": {},
   "source": [
    "Why is this a sensible result for our example (if it is not sebsible, you have made a mistake!)."
   ]
  },
  {
   "cell_type": "markdown",
   "metadata": {},
   "source": [
    "We could also search for a start codon, and tanslate from there:"
   ]
  },
  {
   "cell_type": "code",
   "execution_count": 26,
   "metadata": {},
   "outputs": [
    {
     "name": "stdout",
     "output_type": "stream",
     "text": [
      "230\n",
      "M*PGACVKLYNGRWSDDSSCAYHDCSPLP*YGR*EAQGQPQTLHVCV*RSLLR**GPL*RPAVLFLTEHQRWLPRLPERLLPGL*AGKDDL*DPAVPWPSRGVLPRGLV*QEHHCPAAH*RKILPWNTEFPLGGWPHYSLCSVCSMSFSLPAGSCSPKI*KAQPRTPQSPRRGVWHYRRAHHHQCWRQHFSRFIGSFVYIRKWLWSSFSGTKNGGSPDYTVGVRRERQVW*GVEGQLARGECCREDLLLP**EVMVQGNGIVQHCDAEA*KYLRFHCFRHDIKTLQYPAVVNYTLS*NGIIVRLSSAYYSGYS*LPSNSAVHS*WSCTFAHRDIWDPRETSHCPSRFKEQKYSG*EEWTVLHSRFGPGSHAFPEHQSA*CGEQSPCGHQALHGPRSSR*NHPGGLFRFL*KGRYLGLWTCFVGSGQADGEQWYSGGLQATVLRCGSQ*PKF*RYEEGSLCGSTKAKHTQQMVLRPDINLSGQANERMLVSKSIRKTHSTAYQKDFDQN**FPRQIEN*LLTFS*CQEGRFDVVVIVQLGPNAGLTGCQNGIHLSPSPNGCFDKADVVPSHVLGRHQNHPNLAR*L*TGHFTNCSHCRD*CWTDTVAKVGTGGTQRNPKRDLGIKSVALHSFHKSPRHSPRETQGGGEFLISNIACASLLYCTRNSLHSLLALLLLILKTQFAKMLAAYSTGLSLDNRNSIWQNKM*CQTLLHFTHVLMFTMMPNIRNCLYTTLQIIYYLCTW*FLQNCFVHMLKLIFMWSYDFITEMFLTLYSKMDIFFYYQLNSHFKCFTFVCV*TVTFFQFICRTYLAITHVTPPNILLI*KQRFQ*NFSPERYGENAFSSELSITCI*TLPEKNNYFVLIYFLYLVVICIN*INCFQVK\n"
     ]
    }
   ],
   "source": [
    "codingStart = transcript.seq.find('ATG')\n",
    "print(codingStart)\n",
    "print(transcript.seq[codingStart:].translate())"
   ]
  },
  {
   "cell_type": "markdown",
   "metadata": {},
   "source": [
    "Does this make sense for your gene? Here in the example it does! If not, why?"
   ]
  },
  {
   "cell_type": "markdown",
   "metadata": {},
   "source": [
    "# Part 3\n",
    "## Open Reading Frames (ORFs)"
   ]
  },
  {
   "cell_type": "markdown",
   "metadata": {},
   "source": [
    "How many start codons are there? Where are they?"
   ]
  },
  {
   "cell_type": "code",
   "execution_count": 27,
   "metadata": {},
   "outputs": [
    {
     "name": "stdout",
     "output_type": "stream",
     "text": [
      "57\n"
     ]
    }
   ],
   "source": [
    "print(transcript.seq.count('ATG'))"
   ]
  },
  {
   "cell_type": "markdown",
   "metadata": {},
   "source": [
    "Let's look at them"
   ]
  },
  {
   "cell_type": "code",
   "execution_count": 28,
   "metadata": {},
   "outputs": [
    {
     "name": "stdout",
     "output_type": "stream",
     "text": [
      "230\n",
      "261\n",
      "268\n",
      "276\n",
      "297\n",
      "321\n",
      "328\n",
      "360\n",
      "391\n",
      "442\n",
      "481\n",
      "495\n",
      "665\n",
      "751\n",
      "781\n",
      "916\n",
      "952\n",
      "982\n",
      "992\n",
      "1026\n",
      "1036\n",
      "1068\n",
      "1117\n",
      "1122\n",
      "1300\n",
      "1338\n",
      "1366\n",
      "1404\n",
      "1423\n",
      "1512\n",
      "1522\n",
      "1558\n",
      "1570\n",
      "1590\n",
      "1640\n",
      "1680\n",
      "1688\n",
      "1851\n",
      "1902\n",
      "1938\n",
      "1978\n",
      "2026\n",
      "2279\n",
      "2342\n",
      "2347\n",
      "2373\n",
      "2381\n",
      "2390\n",
      "2393\n",
      "2483\n",
      "2501\n",
      "2511\n",
      "2528\n",
      "2552\n",
      "2608\n",
      "2641\n",
      "2745\n"
     ]
    }
   ],
   "source": [
    "seq = transcript.seq\n",
    "i = 0\n",
    "while seq[i:].find('ATG')>-1:\n",
    "    j = seq[i:].find('ATG')\n",
    "    i = i + j + 3\n",
    "    print(i - 3)\n"
   ]
  },
  {
   "cell_type": "markdown",
   "metadata": {},
   "source": [
    "This is a list of possible coding region starting points."
   ]
  },
  {
   "cell_type": "markdown",
   "metadata": {},
   "source": [
    "## Alternative strategy\n",
    "\n",
    "Each true ORF should end with a stop codon. So we can translate the sequence using all three different reading farmes, and search for start-> stop codon sequences."
   ]
  },
  {
   "cell_type": "code",
   "execution_count": 29,
   "metadata": {},
   "outputs": [
    {
     "name": "stdout",
     "output_type": "stream",
     "text": [
      "Candidate 1: RRADLQRPAASHSASPGSAPGRGGTRAWSIGKRHTARVRAAGELIIPGTPLLLPEYPSDQSERSSERGHAA\n",
      "Candidate 2: RTVGRCDQEPALSCTMVDGVMILPVLIMIALPSPSMEDEKPKVSPKLYMCVCEGLSCGNEDHCEGQQCFSSLSINDGFHVYQKGCFQVYEQGKMTCKTPPSPGQAVECCQGDWCNRNITAQLPTKGKSFPGTQNFHLEVGLIILSVVFAVCLLACLLGVALRKFKRRNQERLNPRDVEYGTIEGLITTNVGDSTLADLLDHSCTSGSGSGLPFLVQRTVARQITLLECVGKGRYGEVWRGSWQGENVAVKIFSSRDEKSWFRETELYNTVMLRHENILGFIASDMTSRHSSTQLWLITHYHEMGSLYDYLQLTTLDTVSCLRIVLSIASGLAHLHIEIFGTQGKPAIAHRDLKSKNILVKKNGQCCIADLGLAVMHSQSTNQLDVGNNPRVGTKRYMAPEVLDETIQVDCFDSYKRVDIWAFGLVLWEVARRMVSNGIVEDYKPPFYDVVPNDPSFEDMRKVVCVDQQRPNIPNRWFSDPTLTSLAKLMKECWYQNPSARLTALRIKKTLTKIDNSLDKLKTDC\n",
      "Candidate 3: HFHSVKKEDLTLLSLSSWDLMLA\n",
      "Candidate 4: LVVRTESICLPPQMAALTRQTSYPAMCWGDIKTTLTSLDDCELGISRTVHTAETNVGQTLLQR\n",
      "Candidate 5: GLEEHREILKEIWALSQWLCIAFTSLLDTPHGKLKEVVNF\n",
      "Candidate 6: SAILPVLLFFIALGILCIPYLHCYS\n",
      "Candidate 7: F\n",
      "Candidate 8: RPNLPKCWLRTPLVCLWIIGIQFGKTKCNVRLCCILHMC\n",
      "Candidate 9: CLQ\n",
      "Candidate 10: CRTLGIVYTQLCKLFITCALGSFYKTASCIC\n",
      "Candidate 11: SLFLCGLMILLQKCF\n",
      "Candidate 12: HYTLKWTFSFIIS\n",
      "Candidate 13: IHILSASHLYVCRL\n",
      "Candidate 14: LFFSSYAERI\n",
      "Candidate 15: PLPT\n",
      "Candidate 16: HHRIYY\n",
      "Candidate 17: FRSKDFSRILVLNATGKMHFLQNYPLRAFKLCQKKITILF\n",
      "Candidate 18: STFCI\n",
      "Candidate 19: \n",
      "Candidate 20: LFV\n",
      "Candidate 21: IK\n",
      "Candidate 22: TVFKS\n"
     ]
    }
   ],
   "source": [
    "f1 = transcript.seq.translate().split('*')\n",
    "f2 = transcript.seq[1:].translate().split('*')\n",
    "f3 = transcript.seq[2:].translate().split('*')\n",
    "\n",
    "# change this to f2, f3:\n",
    "for i, f in enumerate(f1):\n",
    "    print('Candidate '+str(i+1)+': '+f)\n"
   ]
  },
  {
   "cell_type": "markdown",
   "metadata": {},
   "source": [
    "These are all candidate coding sequences ending with a stop codon. Now check if there is a start codon. Since we have now got amino acis sequences, we should search for the amino acid equivalent of 'ATG', which is 'M' (Methionine)"
   ]
  },
  {
   "cell_type": "code",
   "execution_count": 30,
   "metadata": {},
   "outputs": [
    {
     "name": "stdout",
     "output_type": "stream",
     "text": [
      "Reading frame: 1\n",
      "segment length: 1530\n",
      "segment length: 12\n",
      "segment length: 153\n",
      "segment length: 9\n",
      "segment length: 27\n",
      "segment length: 72\n",
      "Reading frame: 2\n",
      "segment length: 9\n",
      "segment length: 105\n",
      "segment length: 57\n",
      "segment length: 51\n",
      "segment length: 48\n",
      "segment length: 45\n",
      "segment length: 15\n",
      "segment length: 69\n",
      "segment length: 18\n",
      "segment length: 57\n",
      "segment length: 96\n",
      "segment length: 9\n",
      "segment length: 36\n",
      "segment length: 105\n",
      "segment length: 60\n",
      "segment length: 117\n",
      "Reading frame: 3\n",
      "segment length: 6\n",
      "segment length: 45\n",
      "segment length: 48\n",
      "segment length: 117\n",
      "segment length: 69\n",
      "segment length: 78\n",
      "segment length: 135\n"
     ]
    }
   ],
   "source": [
    "for i,f in enumerate((f1,f2,f3)):\n",
    "    print(\"Reading frame: \"+str(i+1))\n",
    "    for p in f:\n",
    "        M = p.find('M')\n",
    "        if M>=0:\n",
    "            print('segment length: '+str((len(p)-M+1)*3))"
   ]
  },
  {
   "cell_type": "markdown",
   "metadata": {},
   "source": [
    "These are the lengths of all possible open reading frames. There are many different candidates. Often the longest is the correct one, here that is the case too.\n",
    "\n",
    "Note: here we know the 5' -> 3' direction (can you see why?), but generally both directions must be searched."
   ]
  },
  {
   "cell_type": "markdown",
   "metadata": {},
   "source": [
    "## Putting everything together"
   ]
  },
  {
   "cell_type": "code",
   "execution_count": 31,
   "metadata": {},
   "outputs": [
    {
     "name": "stdout",
     "output_type": "stream",
     "text": [
      "MVDGVMILPV...TDC - fragment length: 1530, strand: 1, frame: 0, pos: 0, start: 46, coding length 1530, has start True\n",
      "MLAAYSTGLS...NKM - fragment length: 69, strand: 1, frame: 2, pos: 0, start: 259, coding length 69, has start True\n",
      "MSPSIVPYST...PCS - fragment length: 294, strand: -1, frame: 0, pos: 0, start: 43, coding length 294, has start True\n",
      "MDFDTSILSL...GNA - fragment length: 372, strand: -1, frame: 1, pos: 0, start: 13, coding length 372, has start True\n"
     ]
    }
   ],
   "source": [
    "# a simple ORF finder\n",
    "\n",
    "seq = transcript.seq\n",
    "\n",
    "# search for at least 100 amino acid length:\n",
    "min_len = 100\n",
    "\n",
    "for strand, nuc in [(+1, seq), (-1, seq.reverse_complement())]:\n",
    "    for frame in range(3):\n",
    "        pos = 0\n",
    "        for prot in nuc[frame:].translate().split('*'):\n",
    "            if len(prot) >= min_len:\n",
    "                start = prot.find(\"M\")\n",
    "                print(\"%s...%s - fragment length: %i, strand: %i, frame: %i, pos: %i, start: %i, coding length %i, has start %s\" % (prot[start:start+10], prot[-3:], (len(prot)-start+1)*3, strand, frame, pos*3, (max(0,start)+pos+frame)*3+1, (len(prot[start:])+1)*3, start>-1))\n",
    "                pos = pos + len(prot)+1"
   ]
  },
  {
   "cell_type": "code",
   "execution_count": null,
   "metadata": {},
   "outputs": [],
   "source": []
  },
  {
   "cell_type": "code",
   "execution_count": null,
   "metadata": {},
   "outputs": [],
   "source": []
  },
  {
   "cell_type": "code",
   "execution_count": null,
   "metadata": {},
   "outputs": [],
   "source": []
  },
  {
   "cell_type": "code",
   "execution_count": null,
   "metadata": {},
   "outputs": [],
   "source": []
  },
  {
   "cell_type": "code",
   "execution_count": null,
   "metadata": {},
   "outputs": [],
   "source": []
  },
  {
   "cell_type": "code",
   "execution_count": null,
   "metadata": {},
   "outputs": [],
   "source": []
  }
 ],
 "metadata": {
  "kernelspec": {
   "display_name": "Python 2",
   "language": "python",
   "name": "python2"
  },
  "language_info": {
   "codemirror_mode": {
    "name": "ipython",
    "version": 2
   },
   "file_extension": ".py",
   "mimetype": "text/x-python",
   "name": "python",
   "nbconvert_exporter": "python",
   "pygments_lexer": "ipython2",
   "version": "2.7.5"
  }
 },
 "nbformat": 4,
 "nbformat_minor": 1
}
