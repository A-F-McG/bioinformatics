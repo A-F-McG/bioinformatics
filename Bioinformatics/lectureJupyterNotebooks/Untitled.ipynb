{
 "cells": [
  {
   "cell_type": "code",
   "execution_count": 21,
   "metadata": {},
   "outputs": [
    {
     "data": {
      "text/plain": [
       "{'A': 22,\n",
       " 'C': 21,\n",
       " 'D': 29,\n",
       " 'E': 26,\n",
       " 'F': 17,\n",
       " 'G': 35,\n",
       " 'H': 12,\n",
       " 'I': 27,\n",
       " 'K': 29,\n",
       " 'L': 53,\n",
       " 'M': 14,\n",
       " 'N': 23,\n",
       " 'P': 23,\n",
       " 'Q': 23,\n",
       " 'R': 26,\n",
       " 'S': 36,\n",
       " 'T': 30,\n",
       " 'V': 40,\n",
       " 'W': 9,\n",
       " 'Y': 14}"
      ]
     },
     "execution_count": 21,
     "metadata": {},
     "output_type": "execute_result"
    }
   ],
   "source": [
    "from Bio import SeqIO\n",
    "from Bio.SeqUtils.ProtParam import ProteinAnalysis\n",
    "from Bio.SeqUtils import ProtParamData\n",
    "\n",
    "ACVR1codingsequence = next(SeqIO.parse(\"ACVR1coding.txt\", \"fasta\"))\n",
    "\n",
    "proteinsequence=str(ACVR1codingsequence.seq.translate())\n",
    "\n",
    "analysedproteinsequence = ProteinAnalysis(proteinsequence)\n",
    "\n",
    "analysedproteinsequence.count_amino_acids()"
   ]
  },
  {
   "cell_type": "code",
   "execution_count": null,
   "metadata": {},
   "outputs": [],
   "source": []
  }
 ],
 "metadata": {
  "kernelspec": {
   "display_name": "Python 2",
   "language": "python",
   "name": "python2"
  },
  "language_info": {
   "codemirror_mode": {
    "name": "ipython",
    "version": 2
   },
   "file_extension": ".py",
   "mimetype": "text/x-python",
   "name": "python",
   "nbconvert_exporter": "python",
   "pygments_lexer": "ipython2",
   "version": "2.7.5"
  }
 },
 "nbformat": 4,
 "nbformat_minor": 2
}
