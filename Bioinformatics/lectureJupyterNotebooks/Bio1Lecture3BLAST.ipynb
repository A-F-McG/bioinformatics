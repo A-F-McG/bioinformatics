{
 "cells": [
  {
   "cell_type": "code",
   "execution_count": 6,
   "metadata": {},
   "outputs": [],
   "source": [
    "# import Biopython functions\n",
    "from Bio import SeqIO\n",
    "from Bio.Blast import NCBIWWW\n",
    "from Bio.Blast import NCBIXML\n",
    "from Bio import Entrez"
   ]
  },
  {
   "cell_type": "markdown",
   "metadata": {},
   "source": [
    "# Loading and viewing sequences"
   ]
  },
  {
   "cell_type": "code",
   "execution_count": 2,
   "metadata": {},
   "outputs": [
    {
     "name": "stdout",
     "output_type": "stream",
     "text": [
      "Homo sapiens homeobox A1 (HOXA1), transcript variant 1, mRNA\n"
     ]
    }
   ],
   "source": [
    "# load the gene sequence\n",
    "\n",
    "# enter your identifier here:\n",
    "#gene_id1 = 'NM_001012505.1' # human Foxp1\n",
    "gene_id1 = 'NM_005522.4' # human HOXA1\n",
    "\n",
    "Entrez.email = 'A.N.Other@example.com'\n",
    "\n",
    "# read the first sequence\n",
    "handle = Entrez.efetch(db=\"nucleotide\", id=gene_id1, rettype=\"gb\", retmode=\"text\")\n",
    "gene = SeqIO.read(handle, \"genbank\")\n",
    "handle.close()\n",
    "\n",
    "print(gene.description)"
   ]
  },
  {
   "cell_type": "code",
   "execution_count": 3,
   "metadata": {},
   "outputs": [
    {
     "name": "stdout",
     "output_type": "stream",
     "text": [
      "('Coding sequence at:', FeatureLocation(ExactPosition(94), ExactPosition(1102), strand=1))\n"
     ]
    }
   ],
   "source": [
    "# this is the whole transcript\n",
    "# location of the coding sequence is here\n",
    "for f in gene.features:\n",
    "    if f.type=='CDS':\n",
    "        print('Coding sequence at:',f.location)\n",
    "        cds_loc = f.location\n"
   ]
  },
  {
   "cell_type": "code",
   "execution_count": 7,
   "metadata": {},
   "outputs": [],
   "source": [
    "#print(gene.seq[cds_loc.start:cds_loc.start+100])\n",
    "letters=\"ATGGTCGATGGAGTAATGATCCTTCCTGTGCTAATGATGATGGCTTTCCCTTCCCCGAGTGTGGAAGATGAGAAGCCCAAGGTCAACCAGAAACTTTACATGTGTGTGTGTGAGGGCCTCTCCTGCGGGAACGAGGACCACTGTGAAGGCCAGCAGTGTTTTTCTTCTCTGAGCATCAACGATGGCTTCCACGTCTACCAGAAGGGCTGCTTTCAGGTTTATGAGCAGGGGAAGATGACGTGTAAGACCCCGCCGTCACCTGGCCAGGCTGTGGAGTGCTGCCAAGGGGACTGGTGTAACAGGAACATCACGGCCCAGCTGCCCACTAAAGGGAAGTCCTTCCCCGGAACACAGAATTTCCACCTGGAAGTTGGCCTTATCATCCTCTCGGTGGTGTTTGCAGTATGTCTTTTAGCTTGCATCCTTGGAGTTGCTCTCAGGAAGTTTAAGAGACGCAATCAAGAGCGCCTGAACCCCAGAGACGTGGAGTATGGTACCATTGAAGGGCTCATCACCACCAATGTGGGAGACAGCACTCTAGCGGAACTACTAGATCACTCGTGTACATCAGGAAGTGGCTCCGGTCTTCCTTTCCTGGTACAGAGAACGGTGGCTCGCCAGATAACCCTGTTGGAGTGTGTCGGGAAGGGCCGGTATGGAGAAGTATGGAGGGGCAGCTGGCAAGGCGAAAATGTCGCTGTGAAGATCTTCTCCTCCCGAGACGAGAAGTCATGGTTCAGGGAGACGGAATTGTACAACACTGTGATGTTGAGGCATGAAAATATCTTAGGTTTCATCGCTTCAGACATGACCTCCAGACACTCCAGTACCCAGCTGTGGCTCATCACACATTACCATGAAATGGGATCGTTGTATGACTACCTTCAGCTCACTACTCTGGATACGGTTAGCTGCCTTCGGATTGTACTGTCCATAGCCAGCGGCCTTGCCCATTTGCACATAGAGATATTTGGGACCCAAGGGAAGTCCGCCATTGCCCATCGAGATCTGAAGAGCAAAAACATCCTGGTGAAGAAGAATGGACAGTGCTGCATAGCAGATTTGGGCCTGGCAGTCATGCATTCCCAGAGCACAAACCAGCTTGATGTGGGAAACAACCCCCGTGTGGGGACCAAGCGCTACATGGCTCCGGAAGTGCTCGATGAAACCATCCAAGTGGATTGCTTTGATTCTTATAAGAGGGTCGATATTTGGGCCTTTGGCCTTGTTCTGTGGGAAGTGGCCAGGCGAATGGTGAGCAATGGTATAGTGGAAGATTACAAGCCACCATTCTATGATGTGGTTCCCAATGACCCAAGTTTTGAAGATATGAGGAAAGTTGTCTGTGTGGATCAACAGAGGCCAAACATACCTAACAGATGGTTCTCAGACCCGACATTAACTTCTCTGGCGAAGCTGATGAAAGAGTGCTGGTATCAGAACCCATCCGCAAGACTCACAGCTCTACGTATCAAAAAGACTTTGACCAAAATCGATAATTCCCTAGACAAATTAAAAACTGACTGTTGA\"\n",
    "#letters=\"ATGGAGTCCAATATATATTTAGTTTTTCTATTGACGTTTCTGCTGTACAATAATGCCAGAGCCGAAATCAGCGATCATCTGCGGGAGGACATACCGGACTTAGACATGGAGCTCTCCTCCGCCTCATCCGCCCATCTCAATGGCAAGGAGCTACCGGCCGTGCCACAGAACTCGGTGCAGACGCATCCCAGGAGACACATTAAGAGTAAGCGCCGCATGAAGAGAAGATACAAATGCTACTCCTGCGAGCCGCCCTGTCGGGATCCCTATGAGTTTACCCACACCTGCCAGAATGCGATTCAGTGCTGGAAGTCGCGCACACGCGATGCCGATGGTCAGGTGCAGGAGTCACGCGGCTGCAGCACCTCGCCGGATCAACTGCCCATGATCTGCAGCCAGAACTCCTTGAAGATCAACGGGCCCAGTAAACGCAATACGGGGAAGTTCGTGAATGTGGTCTGCTGTGCCGGTGATTACTGCAATGAGGGAGACTTTCCGGAACTGCTGCCCTTCGACAGCAATGATGTGACGGTGATAACCGCGGATACCAGTAGCATAAGCAAGATGCTCGTCGCCGTTCTGGGTCCTTTTCTGGTCATCGCTCTGCTGGGCGCCGTGACCATCTTCTTCATTCGTCGTAGCCATCGCAAGCGTCTGGCTGCCTCGCGAACCAAACAGGACCCGGAAGCGTATCTGGTCAATGATGAGCTGCTCCGCGCCACCAGCGCCGGGGACAGTACGCTGAGGGAGTATCTGCAGCACTCGGTGACCTCCGGCTCGGGCAGCGGATTGCCGCTGCTAGTGCAGCGTACGCTAGCCAAACAGGTCACCCTGATCGAGTGCATTGGACGAGGCAAATACGGCGAGGTTTGGCGCGGTCACTGGCATGGCGAAAGCATCGCCGTGAAGATATTCTTCAGTCGCGACGAGGAGTCCTGGAAGCGGGAGACAGAGATATATAGCACCATATTGCTACGACATGAAAATATTCTGGGATTCATCGGCTCTGACATGACGTCGCGGAACTCGTGCACCCAACTTTGGCTGATGACGCACTACTATCCACTGGGCTCGCTCTTTGATCACCTAAACCGTAACGCCCTAAGCCACAACGATATGGTATGGATTTGCCTGTCCATAGCTAATGGGCTGGTACACTTGCACACAGAGATATTCGGCAAGCAAGGCAAGCCAGCTATGGCCCACCGCGATTTGAAGTCAAAGAATATACTGGTCACCTCGAACGGCTCCTGCGTGATAGCCGATTTTGGACTGGCCGTTACCCATTCGCACGTCACAGGACAACTGGACCTGGGCAACAACCCCAAAGTGGGCACCAAGCGCTACATGGCCCCAGAGGTTCTTGATGAAAGCATTGATTTAGAATGCTTCGAAGCACTACGCCGGACAGATATTTACGCATTTGGACTTGTCCTCTGGGAGGTTTGTCGCCGCACCATTTCTTGCGGCATAGCAGAGGAGTACAAGGTGCCCTTCTACGATGTGGTGCCAATGGATCCCAGCTTCGAGGATATGCGCAAGGTGGTCTGCATCGACAACTACAGGCCCTCCATTCCCAATCGCTGGAGCTCGGATTCGTTAATGACTGGCATGTCCAAGCTCATGAAGGAGTGCTGGCACCAAAACCCCGACGTGCGCTTGCCAGCGCTGCGCATCAAAAAGACTATACATAAGCTGGCTTCCGCTGACGAGAAGATACGCCTGGACTTCGACGAGGTCTGCGTTTAG\"\n",
    "#letters=\"AACGAGGAGCTCAAGCGAGAAGCTGATACGCTGAAGGAC\""
   ]
  },
  {
   "cell_type": "markdown",
   "metadata": {},
   "source": [
    "# Run and parse a BLAST"
   ]
  },
  {
   "cell_type": "code",
   "execution_count": 12,
   "metadata": {},
   "outputs": [],
   "source": [
    "# run a BLAST on a 100 BP part of the transcript, starting at the start codon\n",
    "\n",
    "# there are several choices for the database to query:\n",
    "# nt - the full database\n",
    "# refseq_rna - Curated (NM_, NR_) plus predicted (XM_, XR_) sequences from NCBI Reference Sequence Project\n",
    "# refseq_genomic - Genomic sequences from NCBI Reference Sequence Project\n",
    "# for available databases, see:\n",
    "# ftp://ftp.ncbi.nlm.nih.gov/pub/factsheets/HowTo_BLASTGuide.pdf\n",
    "\n",
    "database = 'refseq_rna'\n",
    "result_handle = NCBIWWW.qblast(\"blastn\", database, \"cda\")\n"
   ]
  },
  {
   "cell_type": "code",
   "execution_count": 13,
   "metadata": {},
   "outputs": [],
   "source": [
    "# Parse the retuned structure\n",
    "blast_records = NCBIXML.parse(result_handle)"
   ]
  },
  {
   "cell_type": "code",
   "execution_count": 14,
   "metadata": {},
   "outputs": [],
   "source": [
    "# take the first record (we only did one search, so there is only one)\n",
    "item = next(blast_records)"
   ]
  },
  {
   "cell_type": "code",
   "execution_count": 15,
   "metadata": {
    "scrolled": false
   },
   "outputs": [],
   "source": [
    "E_VALUE_THRESH = 1#0.05\n",
    "\n",
    "for alignment in item.alignments:\n",
    "    for hsp in alignment.hsps:\n",
    "        if hsp.expect < E_VALUE_THRESH:\n",
    "            print('****************************')\n",
    "            print('sequence:', alignment.title)\n",
    "            print('length:', alignment.length)\n",
    "            print('e value:', hsp.expect)\n",
    "            print(hsp.query[0:75] + '...')\n",
    "            print(hsp.match[0:75] + '...')\n",
    "            print(hsp.sbjct[0:75] + '...')"
   ]
  },
  {
   "cell_type": "code",
   "execution_count": null,
   "metadata": {},
   "outputs": [],
   "source": []
  },
  {
   "cell_type": "code",
   "execution_count": null,
   "metadata": {},
   "outputs": [],
   "source": []
  },
  {
   "cell_type": "code",
   "execution_count": null,
   "metadata": {},
   "outputs": [],
   "source": []
  },
  {
   "cell_type": "code",
   "execution_count": null,
   "metadata": {},
   "outputs": [],
   "source": []
  },
  {
   "cell_type": "code",
   "execution_count": null,
   "metadata": {},
   "outputs": [],
   "source": []
  },
  {
   "cell_type": "code",
   "execution_count": null,
   "metadata": {},
   "outputs": [],
   "source": []
  }
 ],
 "metadata": {
  "kernelspec": {
   "display_name": "Python 2",
   "language": "python",
   "name": "python2"
  },
  "language_info": {
   "codemirror_mode": {
    "name": "ipython",
    "version": 2
   },
   "file_extension": ".py",
   "mimetype": "text/x-python",
   "name": "python",
   "nbconvert_exporter": "python",
   "pygments_lexer": "ipython2",
   "version": "2.7.5"
  }
 },
 "nbformat": 4,
 "nbformat_minor": 1
}
