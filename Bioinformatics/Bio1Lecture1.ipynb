{
 "cells": [
  {
   "cell_type": "markdown",
   "metadata": {},
   "source": [
    "# How to set up your python environment"
   ]
  },
  {
   "cell_type": "markdown",
   "metadata": {},
   "source": [
    "In this course (as well as in Bio2) we will make extensive use of Jupyter notebooks. Jupyter notebooks offer an interactive python session inside a browser, with great added functionality such as markdown support, widgets and much more. They are a great tool for data exploration, and freqently used in data science.\n",
    "\n",
    "To find out more:\n",
    "*http://jupyter.org/*\n",
    "\n",
    "This site has numerous examples and tutorials:\n",
    "*https://github.com/jupyter/jupyter/wiki/A-gallery-of-interesting-Jupyter-Notebooks*"
   ]
  },
  {
   "cell_type": "markdown",
   "metadata": {},
   "source": [
    "## Running jupyter\n",
    "\n",
    "There are many different ways to set up your python environment. Advanced users may wish to create a virtual environment for te course. In the following, the simplest method to set the packages required in this course is explained.\n",
    "\n",
    "### Downloading code\n",
    "\n",
    "First, download the json version of this notebook from:\n",
    "\n",
    "*https://www.inf.ed.ac.uk/teaching/courses/bio1/lectures16/Bio1Lecture1.ipynb*\n",
    "\n",
    "Save this somewhere in your home directory.\n",
    "\n",
    "### Running jupyter\n",
    "\n",
    "To start a Jupyter session, open a terminal and type:\n",
    "\n",
    "``jupyter notebook``\n",
    "\n",
    "This should autmatically start a web browser if not already running, and a present a screen to access notebooks. You can now navidate to the location of the downloaded notebook, and simply click on it to open it.\n",
    "\n",
    "To create a new, emplty notebook, click on ``New`` ``->`` ``python 2``.\n"
   ]
  },
  {
   "cell_type": "markdown",
   "metadata": {},
   "source": [
    "## Executing code\n",
    "\n",
    "\n",
    "The notebook is organised in cells, each of which can hold markdown text (as this one) or python code. To execute the code in a cell, press the key combination ``Shift`` + ``Return``.\n",
    "\n",
    "You can try this in the cell below, where we assign a string to the variable ``a`` and then print it:"
   ]
  },
  {
   "cell_type": "code",
   "execution_count": 1,
   "metadata": {},
   "outputs": [
    {
     "name": "stdout",
     "output_type": "stream",
     "text": [
      "ATG\n"
     ]
    }
   ],
   "source": [
    "a = 'ATG'\n",
    "print(a)"
   ]
  },
  {
   "cell_type": "markdown",
   "metadata": {},
   "source": [
    "Once the cell above has been executed, the interpreter knows about ``a``, so we can start woking with it in the python way:"
   ]
  },
  {
   "cell_type": "code",
   "execution_count": 2,
   "metadata": {},
   "outputs": [
    {
     "name": "stdout",
     "output_type": "stream",
     "text": [
      "ATGATG\n",
      "ATGGTA\n",
      "3\n",
      "9\n"
     ]
    }
   ],
   "source": [
    "print(a+a)\n",
    "print(a+a[::-1])\n",
    "print(len(a))\n",
    "print(len(a)**2)"
   ]
  },
  {
   "cell_type": "markdown",
   "metadata": {},
   "source": [
    "A brief intro to some basic python concepts can be found here:\n",
    "*https://github.com/rajathkmp/Python-Lectures/blob/master/01.ipynb*"
   ]
  },
  {
   "cell_type": "markdown",
   "metadata": {},
   "source": [
    "# Biopython\n",
    "\n",
    "*http://biopython.org/*\n",
    "\n",
    "Biopython provides tools for analysis of genomics and proteomic data. We will use this throughout the course, so make sure this runs on your computer.\n",
    "\n",
    "Try to execute the following code:"
   ]
  },
  {
   "cell_type": "code",
   "execution_count": 3,
   "metadata": {
    "collapsed": true
   },
   "outputs": [],
   "source": [
    "import Bio"
   ]
  },
  {
   "cell_type": "markdown",
   "metadata": {},
   "source": [
    "If there is no error, you are all set.\n",
    "\n",
    "If it did not work, you have to install the package. The easiest way is to use the tool ``pip``. In a terminal, type:\n",
    "\n",
    "``pip install biopython``\n",
    "\n",
    "If this fails, you may not have root privilges, then try:\n",
    "\n",
    "``pip install --user biopython``\n",
    "\n",
    "Once this has finished, re-run the cell above."
   ]
  },
  {
   "cell_type": "markdown",
   "metadata": {},
   "source": [
    "Now you can start working. Here is the main documentation:\n",
    "\n",
    "And here a small example:"
   ]
  },
  {
   "cell_type": "code",
   "execution_count": 4,
   "metadata": {},
   "outputs": [
    {
     "name": "stdout",
     "output_type": "stream",
     "text": [
      "AGTACACTGGT\n",
      "TCATGTGACCA\n",
      "ACCAGTGTACT\n"
     ]
    }
   ],
   "source": [
    "from Bio.Seq import Seq\n",
    "my_seq = Seq(\"AGTACACTGGT\")\n",
    "print(my_seq)\n",
    "print(my_seq.complement())\n",
    "print(my_seq.reverse_complement())"
   ]
  },
  {
   "cell_type": "markdown",
   "metadata": {},
   "source": [
    "# Matplotlib"
   ]
  },
  {
   "cell_type": "markdown",
   "metadata": {},
   "source": [
    "This is essentailly a library for data ploting, and is useful to use in combination with ``numpy``. Try this:"
   ]
  },
  {
   "cell_type": "code",
   "execution_count": 5,
   "metadata": {},
   "outputs": [],
   "source": [
    "%matplotlib inline\n",
    "\n",
    "import matplotlib.pyplot as plt\n",
    "import numpy as np"
   ]
  },
  {
   "cell_type": "markdown",
   "metadata": {},
   "source": [
    "Again, if this does not work, type (in a terminal):\n",
    "\n",
    "``pip install numpy``\n",
    "``pip install matplotlib``\n",
    "\n",
    "or\n",
    "\n",
    "``pip install --user numpy``\n",
    "``pip install --user matplotlib``\n",
    "\n",
    "The beauty of Jupyter is that plots can be embedded in a notebook: "
   ]
  },
  {
   "cell_type": "code",
   "execution_count": 6,
   "metadata": {},
   "outputs": [
    {
     "data": {
      "text/plain": [
       "[<matplotlib.lines.Line2D at 0x7f286c778d30>]"
      ]
     },
     "execution_count": 6,
     "metadata": {},
     "output_type": "execute_result"
    },
    {
     "data": {
      "image/png": "[encoded data removed]",
      "text/plain": [
       "<matplotlib.figure.Figure at 0x7f2894505f98>"
      ]
     },
     "metadata": {},
     "output_type": "display_data"
    }
   ],
   "source": [
    "plt.plot(np.random.rand(20),np.random.rand(20),'o')"
   ]
  },
  {
   "cell_type": "markdown",
   "metadata": {},
   "source": [
    "# Getting help\n",
    "\n",
    "Python libraries and functions are well documented. There are multiple ways to access this from a notebook:\n",
    "\n",
    "1. Select a function name (or anything really) with the mouse, and press ``Shift``+``Tab``. Some information will pop up. Pressing the same keys again will bring up ore detailed documentation.\n",
    "\n",
    "2. In a cell, type ``?function`` and execute the cell. This will show extended documentation at the bottom of the screen\n",
    "\n",
    "Execute this cell to try:"
   ]
  },
  {
   "cell_type": "code",
   "execution_count": 21,
   "metadata": {
    "collapsed": true
   },
   "outputs": [],
   "source": [
    "?plt.plot"
   ]
  }
 ],
 "metadata": {
  "kernelspec": {
   "display_name": "Python 2",
   "language": "python",
   "name": "python2"
  },
  "language_info": {
   "codemirror_mode": {
    "name": "ipython",
    "version": 2
   },
   "file_extension": ".py",
   "mimetype": "text/x-python",
   "name": "python",
   "nbconvert_exporter": "python",
   "pygments_lexer": "ipython2",
   "version": "2.7.5"
  }
 },
 "nbformat": 4,
 "nbformat_minor": 2
}
